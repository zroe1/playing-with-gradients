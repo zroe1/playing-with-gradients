{
 "cells": [
  {
   "cell_type": "code",
   "execution_count": 1,
   "id": "6d8df5ca-c57d-446a-86f2-6dacfda6def3",
   "metadata": {},
   "outputs": [],
   "source": [
    "from robustbench.data import load_cifar10\n",
    "import torch\n",
    "import torch.nn as nn\n",
    "import torch.optim as optim\n",
    "import torchvision\n",
    "import torchvision.transforms as transforms\n",
    "import matplotlib.pyplot as plt\n",
    "import numpy as np\n",
    "import torchattacks"
   ]
  },
  {
   "cell_type": "code",
   "execution_count": 3,
   "id": "652dceb3-c43f-4548-be4f-13134715408d",
   "metadata": {},
   "outputs": [],
   "source": [
    "# Simple CNN Model\n",
    "class SimpleCNN(nn.Module):\n",
    "    def __init__(self, num_classes=10):\n",
    "        super(SimpleCNN, self).__init__()\n",
    "        # First conv block\n",
    "        self.conv1 = nn.Conv2d(3, 32, kernel_size=3, padding=1)\n",
    "        self.conv2 = nn.Conv2d(32, 64, kernel_size=3, padding=1)\n",
    "        self.pool1 = nn.MaxPool2d(2, 2)  # 32x32 -> 16x16\n",
    "        \n",
    "        # Second conv block\n",
    "        self.conv3 = nn.Conv2d(64, 128, kernel_size=3, padding=1)\n",
    "        self.conv4 = nn.Conv2d(128, 128, kernel_size=3, padding=1)\n",
    "        self.pool2 = nn.MaxPool2d(2, 2)  # 16x16 -> 8x8\n",
    "        \n",
    "        # Third conv block\n",
    "        self.conv5 = nn.Conv2d(128, 256, kernel_size=3, padding=1)\n",
    "        self.pool3 = nn.MaxPool2d(2, 2)  # 8x8 -> 4x4\n",
    "        \n",
    "        # Fully connected layers\n",
    "        self.fc1 = nn.Linear(256 * 4 * 4, 512)\n",
    "        self.fc2 = nn.Linear(512, num_classes)\n",
    "        \n",
    "        self.relu = nn.ReLU()\n",
    "\n",
    "    def forward(self, x):\n",
    "        # First conv block\n",
    "        x = self.relu(self.conv1(x))\n",
    "        x = self.relu(self.conv2(x))\n",
    "        x = self.pool1(x)\n",
    "        \n",
    "        # Second conv block\n",
    "        x = self.relu(self.conv3(x))\n",
    "        x = self.relu(self.conv4(x))\n",
    "        x = self.pool2(x)\n",
    "        \n",
    "        # Third conv block\n",
    "        x = self.relu(self.conv5(x))\n",
    "        x = self.pool3(x)\n",
    "        \n",
    "        # Flatten and fully connected\n",
    "        x = x.view(x.size(0), -1)\n",
    "        \n",
    "        x = self.relu(self.fc1(x))\n",
    "        x = self.fc2(x)\n",
    "    \n",
    "        return x\n",
    "\n",
    "# Data loading and preprocessing\n",
    "def load_cifar10():\n",
    "    # Simple data augmentation for training\n",
    "    train_transform = transforms.Compose([\n",
    "        transforms.RandomHorizontalFlip(p=0.5),\n",
    "        transforms.RandomCrop(32, padding=4),\n",
    "        transforms.ToTensor(),\n",
    "    ])\n",
    "    \n",
    "    # No augmentation for test\n",
    "    test_transform = transforms.Compose([\n",
    "        transforms.ToTensor(),\n",
    "    ])\n",
    "    \n",
    "    # Load datasets\n",
    "    trainset = torchvision.datasets.CIFAR10(\n",
    "        root='./data', train=True, download=True, transform=train_transform\n",
    "    )\n",
    "    trainloader = torch.utils.data.DataLoader(\n",
    "        trainset, batch_size=128, shuffle=True, num_workers=2\n",
    "    )\n",
    "    \n",
    "    testset = torchvision.datasets.CIFAR10(\n",
    "        root='./data', train=False, download=True, transform=test_transform\n",
    "    )\n",
    "    testloader = torch.utils.data.DataLoader(\n",
    "        testset, batch_size=128, shuffle=False, num_workers=2\n",
    "    )\n",
    "    return trainloader, testloader"
   ]
  },
  {
   "cell_type": "code",
   "execution_count": 4,
   "id": "e93aedd8-279a-4ea9-8992-c607f2acc9b1",
   "metadata": {},
   "outputs": [
    {
     "name": "stderr",
     "output_type": "stream",
     "text": [
      "100%|██████████████████████████████████████████████████████████████████████████████████████████████████████████████████████████████████████████████████| 170M/170M [00:06<00:00, 27.3MB/s]\n"
     ]
    }
   ],
   "source": [
    "trainloader, testloader = load_cifar10()"
   ]
  },
  {
   "cell_type": "code",
   "execution_count": 5,
   "id": "f5f594fc-767a-4a79-b3b4-5c5bad3a143b",
   "metadata": {},
   "outputs": [
    {
     "name": "stdout",
     "output_type": "stream",
     "text": [
      "Model parameters: 2,638,794\n"
     ]
    }
   ],
   "source": [
    "model = SimpleCNN(num_classes=10)\n",
    "print(f\"Model parameters: {sum(p.numel() for p in model.parameters()):,}\")"
   ]
  },
  {
   "cell_type": "code",
   "execution_count": 8,
   "id": "5ad046f6-dd67-41b8-a787-a29894c2544b",
   "metadata": {},
   "outputs": [],
   "source": [
    "# Training function\n",
    "def train_model(model, trainloader, num_epochs=10):\n",
    "    device = 'mps'\n",
    "    model.to(device)\n",
    "    \n",
    "    criterion = nn.CrossEntropyLoss()\n",
    "    optimizer = optim.Adam(model.parameters(), lr=0.001)\n",
    "    \n",
    "    train_losses = []\n",
    "    train_accuracies = []\n",
    "    \n",
    "    print(f\"Training on {device}\")\n",
    "    \n",
    "    for epoch in range(num_epochs):\n",
    "        model.train()\n",
    "        running_loss = 0.0\n",
    "        correct = 0\n",
    "        total = 0\n",
    "        \n",
    "        for batch_idx, (inputs, targets) in enumerate(trainloader):\n",
    "            inputs, targets = inputs.to(device), targets.to(device)\n",
    "            optimizer.zero_grad()\n",
    "\n",
    "            out = model(inputs)\n",
    "\n",
    "            loss = criterion(out, targets)\n",
    "            loss.backward()\n",
    "            optimizer.step()\n",
    "\n",
    "            if batch_idx % 10 != 0:\n",
    "                running_loss += loss.item()\n",
    "                _, predicted = out.max(1)\n",
    "                total += targets.size(0)\n",
    "                correct += predicted.eq(targets).sum().item()\n",
    "            \n",
    "            if batch_idx % 100 == 99:\n",
    "                print(f'Epoch: {epoch+1}/{num_epochs}, Batch: {batch_idx}, '\n",
    "                      f'Loss: {loss.item():.4f}, Acc: {100.*correct/total:.2f}%')\n",
    "        \n",
    "        epoch_loss = running_loss / len(trainloader)\n",
    "        epoch_acc = 100. * correct / total\n",
    "        train_losses.append(epoch_loss)\n",
    "        train_accuracies.append(epoch_acc)\n",
    "        \n",
    "        print(f'Epoch {epoch+1} completed: Loss: {epoch_loss:.4f}, Accuracy: {epoch_acc:.2f}%')\n",
    "    \n",
    "    return train_losses, train_accuracies"
   ]
  },
  {
   "cell_type": "code",
   "execution_count": 9,
   "id": "cdaf8ad7-8483-4814-bc80-13952bbdd15d",
   "metadata": {},
   "outputs": [
    {
     "name": "stdout",
     "output_type": "stream",
     "text": [
      "\n",
      "Starting training...\n",
      "Training on mps\n",
      "Epoch: 1/5, Batch: 99, Loss: 1.8600, Acc: 24.35%\n",
      "Epoch: 1/5, Batch: 199, Loss: 1.6958, Acc: 29.46%\n",
      "Epoch: 1/5, Batch: 299, Loss: 1.5390, Acc: 32.88%\n",
      "Epoch 1 completed: Loss: 1.5708, Accuracy: 35.45%\n",
      "Epoch: 2/5, Batch: 99, Loss: 1.3528, Acc: 47.50%\n",
      "Epoch: 2/5, Batch: 199, Loss: 1.5369, Acc: 49.07%\n",
      "Epoch: 2/5, Batch: 299, Loss: 1.2891, Acc: 50.33%\n",
      "Epoch 2 completed: Loss: 1.1951, Accuracy: 51.40%\n",
      "Epoch: 3/5, Batch: 99, Loss: 1.1975, Acc: 57.80%\n",
      "Epoch: 3/5, Batch: 199, Loss: 1.0348, Acc: 58.94%\n",
      "Epoch: 3/5, Batch: 299, Loss: 1.0763, Acc: 60.00%\n",
      "Epoch 3 completed: Loss: 0.9844, Accuracy: 60.70%\n",
      "Epoch: 4/5, Batch: 99, Loss: 0.9297, Acc: 63.23%\n",
      "Epoch: 4/5, Batch: 199, Loss: 0.9540, Acc: 64.67%\n",
      "Epoch: 4/5, Batch: 299, Loss: 1.0316, Acc: 65.16%\n",
      "Epoch 4 completed: Loss: 0.8668, Accuracy: 65.57%\n",
      "Epoch: 5/5, Batch: 99, Loss: 0.9726, Acc: 69.50%\n",
      "Epoch: 5/5, Batch: 199, Loss: 0.7790, Acc: 69.56%\n",
      "Epoch: 5/5, Batch: 299, Loss: 0.8778, Acc: 69.85%\n",
      "Epoch 5 completed: Loss: 0.7627, Accuracy: 69.92%\n"
     ]
    }
   ],
   "source": [
    "# Train model\n",
    "print(\"\\nStarting training...\")\n",
    "train_losses, train_accuracies = train_model(model, trainloader, num_epochs=5)"
   ]
  },
  {
   "cell_type": "code",
   "execution_count": 11,
   "id": "cd0eab45-c9ac-4483-8f9b-17149e2fb9a1",
   "metadata": {},
   "outputs": [],
   "source": [
    "def show_adv_examples(adv_images):\n",
    "    # Show first 4 examples (or less if batch is smaller)\n",
    "    num_to_show = min(4, adv_images.shape[0])\n",
    "    \n",
    "    fig, axes = plt.subplots(1, num_to_show, figsize=(12, 3))\n",
    "    if num_to_show == 1:\n",
    "        axes = [axes]\n",
    "    \n",
    "    for i in range(num_to_show):\n",
    "        # Convert from (C, H, W) to (H, W, C) and move to CPU\n",
    "        img = adv_images[i].permute(1, 2, 0).cpu().detach()\n",
    "        \n",
    "        # Clip values to [0, 1] range for display\n",
    "        img = torch.clamp(img, 0, 1)\n",
    "        \n",
    "        axes[i].imshow(img)\n",
    "        axes[i].set_title(f'Adv Example {i+1}')\n",
    "        axes[i].axis('off')\n",
    "    \n",
    "    plt.tight_layout()\n",
    "    plt.show()"
   ]
  },
  {
   "cell_type": "code",
   "execution_count": 12,
   "id": "6225e833-69ea-4e3a-a309-cfc5fc83c540",
   "metadata": {},
   "outputs": [
    {
     "data": {
      "image/png": "[encoded data removed]",
      "text/plain": [
       "<Figure size 1200x300 with 4 Axes>"
      ]
     },
     "metadata": {},
     "output_type": "display_data"
    },
    {
     "name": "stdout",
     "output_type": "stream",
     "text": [
      "tensor([0, 0, 0, 0, 0], device='mps:0')\n",
      "Attack success rate: 100.00%\n",
      "5\n"
     ]
    },
    {
     "data": {
      "image/png": "[encoded data removed]",
      "text/plain": [
       "<Figure size 1200x300 with 4 Axes>"
      ]
     },
     "metadata": {},
     "output_type": "display_data"
    }
   ],
   "source": [
    "# Simple setup - no complex preprocessing nonsense\n",
    "model = model.to('mps')\n",
    "model.eval()\n",
    "device = 'mps'\n",
    "\n",
    "# Create attacks\n",
    "fgsm = torchattacks.FGSM(model, eps=50/255)\n",
    "fgsm.set_mode_targeted_by_label(quiet=True)\n",
    "pgd = torchattacks.PGD(model, eps=8/255, alpha=2/255, steps=40)\n",
    "pgd.set_mode_targeted_by_label(quiet=True)\n",
    "cw = torchattacks.CW(model, c=1, kappa=0, steps=50)\n",
    "cw.set_mode_targeted_by_label(quiet=True)\n",
    "autoattack = torchattacks.AutoAttack(model, eps=8/255)\n",
    "\n",
    "\n",
    "adv_images = []\n",
    "imgs = []\n",
    "\n",
    "# Use your normal data loader (with whatever preprocessing your model expects)\n",
    "for images, labels in testloader:\n",
    "    # print(images.shape); break\n",
    "    images, labels = images.to(device)[70:75], labels.to(device)[70:75]\n",
    "    show_adv_examples(images)\n",
    "    \n",
    "    # Generate adversarial examples\n",
    "    target_labels = torch.zeros_like(labels)\n",
    "    adv_images = pgd(images, target_labels)\n",
    "    imgs = images.clone()\n",
    "    \n",
    "    # Evaluate\n",
    "    with torch.no_grad():\n",
    "        outputs = model(adv_images.to(device))\n",
    "        # print(outputs.device)\n",
    "        _, predicted = torch.max(outputs, 1)\n",
    "        print(predicted)\n",
    "        # print(predicted.device)\n",
    "        \n",
    "    success_rate = (predicted == target_labels).float().mean()\n",
    "    print(f'Attack success rate: {success_rate:.2%}')\n",
    "    print(len(labels))\n",
    "    break\n",
    "\n",
    "show_adv_examples(adv_images)"
   ]
  },
  {
   "cell_type": "code",
   "execution_count": null,
   "id": "5c738045-beaf-448f-9885-548535cf6f7b",
   "metadata": {},
   "outputs": [],
   "source": []
  },
  {
   "cell_type": "code",
   "execution_count": null,
   "id": "edfb3e13-fe9f-4018-be69-13cfcb792d2b",
   "metadata": {},
   "outputs": [],
   "source": []
  },
  {
   "cell_type": "code",
   "execution_count": null,
   "id": "d9bcc097-e1f3-4ce8-9268-ac6ca76b6bed",
   "metadata": {},
   "outputs": [],
   "source": []
  },
  {
   "cell_type": "code",
   "execution_count": null,
   "id": "3e951e12-25f3-42ba-aaa1-7de25ab2a4e8",
   "metadata": {},
   "outputs": [],
   "source": []
  },
  {
   "cell_type": "code",
   "execution_count": null,
   "id": "91a600d0-14b1-430c-aeb1-39e23b274d48",
   "metadata": {},
   "outputs": [],
   "source": []
  },
  {
   "cell_type": "code",
   "execution_count": null,
   "id": "8e3791af-df86-4145-a53a-634474a3ab34",
   "metadata": {},
   "outputs": [],
   "source": [
    "# Simple setup - no complex preprocessing nonsense\n",
    "model = model.to('mps')\n",
    "model.eval()\n",
    "device = 'mps'\n",
    "\n",
    "# Create attacks\n",
    "fgsm = torchattacks.FGSM(model, eps=50/255)\n",
    "fgsm.set_mode_targeted_by_label(quiet=True)\n",
    "pgd = torchattacks.PGD(model, eps=8/255, alpha=2/255, steps=100)\n",
    "pgd.set_mode_targeted_by_label(quiet=True)\n",
    "cw = torchattacks.CW(model, c=1.5, kappa=0, steps=200)\n",
    "cw.set_mode_targeted_by_label(quiet=True)\n",
    "autoattack = torchattacks.AutoAttack(model, eps=8/255)"
   ]
  }
 ],
 "metadata": {
  "kernelspec": {
   "display_name": "Python 3 (ipykernel)",
   "language": "python",
   "name": "python3"
  },
  "language_info": {
   "codemirror_mode": {
    "name": "ipython",
    "version": 3
   },
   "file_extension": ".py",
   "mimetype": "text/x-python",
   "name": "python",
   "nbconvert_exporter": "python",
   "pygments_lexer": "ipython3",
   "version": "3.11.11"
  }
 },
 "nbformat": 4,
 "nbformat_minor": 5
}
