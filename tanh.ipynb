{
 "cells": [
  {
   "cell_type": "code",
   "execution_count": 25,
   "id": "6d8df5ca-c57d-446a-86f2-6dacfda6def3",
   "metadata": {},
   "outputs": [],
   "source": [
    "from robustbench.data import load_cifar10\n",
    "import torch\n",
    "import torch.nn as nn\n",
    "import torch.optim as optim\n",
    "import torchvision\n",
    "import torchvision.transforms as transforms\n",
    "import matplotlib.pyplot as plt\n",
    "import numpy as np\n",
    "import torchattacks\n",
    "import os"
   ]
  },
  {
   "cell_type": "code",
   "execution_count": 26,
   "id": "652dceb3-c43f-4548-be4f-13134715408d",
   "metadata": {},
   "outputs": [],
   "source": [
    "# Simple CNN Model\n",
    "class SimpleCNN(nn.Module):\n",
    "    def __init__(self, num_classes=10):\n",
    "        super(SimpleCNN, self).__init__()\n",
    "        # First conv block\n",
    "        self.conv1 = nn.Conv2d(3, 32, kernel_size=3, padding=1)\n",
    "        self.conv2 = nn.Conv2d(32, 64, kernel_size=3, padding=1)\n",
    "        self.pool1 = nn.MaxPool2d(2, 2)  # 32x32 -> 16x16\n",
    "        \n",
    "        # Second conv block\n",
    "        self.conv3 = nn.Conv2d(64, 128, kernel_size=3, padding=1)\n",
    "        self.conv4 = nn.Conv2d(128, 128, kernel_size=3, padding=1)\n",
    "        self.pool2 = nn.MaxPool2d(2, 2)  # 16x16 -> 8x8\n",
    "        \n",
    "        # Third conv block\n",
    "        self.conv5 = nn.Conv2d(128, 256, kernel_size=3, padding=1)\n",
    "        self.pool3 = nn.MaxPool2d(2, 2)  # 8x8 -> 4x4\n",
    "        \n",
    "        # Fully connected layers\n",
    "        self.fc1 = nn.Linear(256 * 4 * 4, 512 )\n",
    "        self.fc2 = nn.Linear(512, num_classes)\n",
    "        \n",
    "        self.relu = nn.ReLU()\n",
    "        self.tanh = nn.Tanh()\n",
    "\n",
    "    \n",
    "    def forward(self, x, return_layer0=False, training=False):\n",
    "        # First conv block\n",
    "        x = self.conv1(x)\n",
    "        layer0 = x.clone()\n",
    "        x = self.tanh(x)\n",
    "        x = self.relu(self.conv2(x))\n",
    "        x = self.pool1(x)\n",
    "        \n",
    "        # Second conv block\n",
    "        x = self.tanh(self.conv3(x))\n",
    "        x = self.relu(self.conv4(x))\n",
    "        x = self.pool2(x)\n",
    "        \n",
    "        # Third conv block\n",
    "        x = self.relu(self.conv5(x))\n",
    "        x = self.pool3(x)\n",
    "        \n",
    "        # Flatten and fully connected\n",
    "        x = x.view(x.size(0), -1)\n",
    "        \n",
    "        x = self.relu(self.fc1(x))\n",
    "        x = self.fc2(x)\n",
    "\n",
    "        if return_layer0:\n",
    "            return x, layer0\n",
    "        return x\n",
    "\n",
    "# Data loading and preprocessing\n",
    "def load_cifar10():\n",
    "    # Simple data augmentation for training\n",
    "    train_transform = transforms.Compose([\n",
    "        transforms.RandomHorizontalFlip(p=0.5),\n",
    "        transforms.RandomCrop(32, padding=4),\n",
    "        transforms.ToTensor(),\n",
    "    ])\n",
    "    \n",
    "    # No augmentation for test\n",
    "    test_transform = transforms.Compose([\n",
    "        transforms.ToTensor(),\n",
    "    ])\n",
    "    \n",
    "    # Load datasets\n",
    "    trainset = torchvision.datasets.CIFAR10(\n",
    "        root='./data', train=True, download=True, transform=train_transform\n",
    "    )\n",
    "    trainloader = torch.utils.data.DataLoader(\n",
    "        trainset, batch_size=128, shuffle=True, num_workers=2\n",
    "    )\n",
    "    \n",
    "    testset = torchvision.datasets.CIFAR10(\n",
    "        root='./data', train=False, download=True, transform=test_transform\n",
    "    )\n",
    "    testloader = torch.utils.data.DataLoader(\n",
    "        testset, batch_size=128, shuffle=False, num_workers=2\n",
    "    )\n",
    "    return trainloader, testloader"
   ]
  },
  {
   "cell_type": "code",
   "execution_count": 27,
   "id": "e93aedd8-279a-4ea9-8992-c607f2acc9b1",
   "metadata": {},
   "outputs": [],
   "source": [
    "trainloader, testloader = load_cifar10()"
   ]
  },
  {
   "cell_type": "code",
   "execution_count": 28,
   "id": "f5f594fc-767a-4a79-b3b4-5c5bad3a143b",
   "metadata": {},
   "outputs": [
    {
     "name": "stdout",
     "output_type": "stream",
     "text": [
      "Model parameters: 2,638,794\n"
     ]
    }
   ],
   "source": [
    "model = SimpleCNN(num_classes=10)\n",
    "print(f\"Model parameters: {sum(p.numel() for p in model.parameters()):,}\")"
   ]
  },
  {
   "cell_type": "code",
   "execution_count": 29,
   "id": "ab7928fe-4f94-4fa4-96fe-753f9b82a63c",
   "metadata": {},
   "outputs": [
    {
     "data": {
      "text/plain": [
       "tensor([0.5761, 0.2119, 0.2119])"
      ]
     },
     "execution_count": 29,
     "metadata": {},
     "output_type": "execute_result"
    }
   ],
   "source": [
    "torch.softmax(torch.tensor([1,0,0.0]), dim = 0)"
   ]
  },
  {
   "cell_type": "code",
   "execution_count": 30,
   "id": "149ed44e-0b86-4ec1-8be4-78ebf606b05f",
   "metadata": {},
   "outputs": [
    {
     "data": {
      "text/plain": [
       "tensor([0.3559, 0.3220, 0.3220])"
      ]
     },
     "execution_count": 30,
     "metadata": {},
     "output_type": "execute_result"
    }
   ],
   "source": [
    "torch.softmax(torch.tensor([1,0,0.0]) / 10, dim = 0)"
   ]
  },
  {
   "cell_type": "code",
   "execution_count": 31,
   "id": "db7ee2a4-a7a3-4ace-9b6e-d143cf9abd3f",
   "metadata": {},
   "outputs": [],
   "source": [
    "def smooth_labels(targets, num_classes=10, temp=7, device='mps'):\n",
    "    batch_size = targets.size(0)\n",
    "    \n",
    "    # Create one-hot encoding (δ_{k,y})\n",
    "    one_hot = torch.zeros(batch_size, num_classes).to(device)\n",
    "    one_hot.scatter_(1, targets.unsqueeze(1), 1)\n",
    "    \n",
    "    # print(one_hot)\n",
    "\n",
    "    one_hot = one_hot / temp\n",
    "    return torch.softmax(one_hot, dim=-1)\n",
    "    "
   ]
  },
  {
   "cell_type": "code",
   "execution_count": 32,
   "id": "5b2b7026-3bb3-4403-8bff-b20ab99729c1",
   "metadata": {},
   "outputs": [],
   "source": [
    "# smooth_labels(torch.tensor([1,2]).to('mps'))"
   ]
  },
  {
   "cell_type": "code",
   "execution_count": 33,
   "id": "5ad046f6-dd67-41b8-a787-a29894c2544b",
   "metadata": {},
   "outputs": [],
   "source": [
    "# Training function\n",
    "def train_model(model, trainloader, num_epochs=10):\n",
    "    device = 'mps'\n",
    "    model.to(device)\n",
    "    \n",
    "    criterion = nn.CrossEntropyLoss()\n",
    "    optimizer = optim.Adam(model.parameters(), lr=0.001)\n",
    "    \n",
    "    train_losses = []\n",
    "    train_accuracies = []\n",
    "    \n",
    "    print(f\"Training on {device}\")\n",
    "    \n",
    "    for epoch in range(num_epochs):\n",
    "        model.train()\n",
    "        running_loss = 0.0\n",
    "        correct = 0\n",
    "        total = 0\n",
    "        \n",
    "        for batch_idx, (inputs, targets) in enumerate(trainloader):\n",
    "            inputs, targets = inputs.to(device), targets.to(device)\n",
    "            # labels_smoothed = smooth_labels(targets, 10).to(device)\n",
    "            optimizer.zero_grad()\n",
    "\n",
    "            out, layer0 = model(inputs, return_layer0=True)\n",
    "\n",
    "            # print(out.shape, targets.shape)\n",
    "            # layer0_loss = torch.mean(nn.functional.relu(5 - torch.abs(layer0)))**2\n",
    "            # print(layer0_loss)\n",
    "            # print(nn.functional.relu(5 - torch.abs(layer0)) / layer0.numel())\n",
    "\n",
    "            loss = criterion(out, targets) #+ (1/10) * layer0_loss\n",
    "            loss.backward()\n",
    "            optimizer.step()\n",
    "\n",
    "            if batch_idx % 10 != 0:\n",
    "                running_loss += loss.item()\n",
    "                _, predicted = out.max(1)\n",
    "                total += targets.size(0)\n",
    "                correct += predicted.eq(targets).sum().item()\n",
    "            \n",
    "            if batch_idx % 100 == 99:\n",
    "                print(f'Epoch: {epoch+1}/{num_epochs}, Batch: {batch_idx}, '\n",
    "                      f'Loss: {loss.item():.4f}, Acc: {100.*correct/total:.2f}%')\n",
    "        \n",
    "        epoch_loss = running_loss / len(trainloader)\n",
    "        epoch_acc = 100. * correct / total\n",
    "        train_losses.append(epoch_loss)\n",
    "        train_accuracies.append(epoch_acc)\n",
    "        \n",
    "        print(f'Epoch {epoch+1} completed: Loss: {epoch_loss:.4f}, Accuracy: {epoch_acc:.2f}%')\n",
    "    \n",
    "    return train_losses, train_accuracies\n",
    "\n",
    "# Evaluation function\n",
    "def evaluate_model(model, testloader):\n",
    "    device = 'mps'\n",
    "    model.eval()\n",
    "    \n",
    "    correct = 0\n",
    "    total = 0\n",
    "    class_correct = list(0. for i in range(10))\n",
    "    class_total = list(0. for i in range(10))\n",
    "    \n",
    "    classes = ('plane', 'car', 'bird', 'cat', 'deer', \n",
    "               'dog', 'frog', 'horse', 'ship', 'truck')\n",
    "    \n",
    "    with torch.no_grad():\n",
    "        for inputs, targets in testloader:\n",
    "            inputs, targets = inputs.to(device), targets.to(device)\n",
    "            outputs = model(inputs)\n",
    "            _, predicted = torch.max(outputs, 1)\n",
    "            total += targets.size(0)\n",
    "            correct += (predicted == targets).sum().item()\n",
    "            \n",
    "            # Per-class accuracy\n",
    "            c = (predicted == targets).squeeze()\n",
    "            for i in range(targets.size(0)):\n",
    "                label = targets[i]\n",
    "                class_correct[label] += c[i].item()\n",
    "                class_total[label] += 1\n",
    "    \n",
    "    overall_acc = 100 * correct / total\n",
    "    print(f'\\nOverall Test Accuracy: {overall_acc:.2f}%')\n",
    "    \n",
    "    print('\\nPer-class accuracies:')\n",
    "    for i in range(10):\n",
    "        if class_total[i] > 0:\n",
    "            acc = 100 * class_correct[i] / class_total[i]\n",
    "            print(f'{classes[i]}: {acc:.2f}%')\n",
    "    \n",
    "    return overall_acc"
   ]
  },
  {
   "cell_type": "code",
   "execution_count": 34,
   "id": "3af17aa3-94d5-4c51-a316-6c11f502c93e",
   "metadata": {},
   "outputs": [
    {
     "name": "stdout",
     "output_type": "stream",
     "text": [
      "\n",
      "Starting training...\n",
      "Training on mps\n"
     ]
    },
    {
     "name": "stderr",
     "output_type": "stream",
     "text": [
      "python(73687) MallocStackLogging: can't turn off malloc stack logging because it was not enabled.\n",
      "python(73689) MallocStackLogging: can't turn off malloc stack logging because it was not enabled.\n"
     ]
    },
    {
     "name": "stdout",
     "output_type": "stream",
     "text": [
      "Epoch: 1/50, Batch: 99, Loss: 1.7273, Acc: 23.51%\n",
      "Epoch: 1/50, Batch: 199, Loss: 1.6074, Acc: 29.17%\n",
      "Epoch: 1/50, Batch: 299, Loss: 1.5440, Acc: 33.42%\n",
      "Epoch 1 completed: Loss: 1.5274, Accuracy: 36.64%\n"
     ]
    },
    {
     "name": "stderr",
     "output_type": "stream",
     "text": [
      "python(73730) MallocStackLogging: can't turn off malloc stack logging because it was not enabled.\n",
      "python(73731) MallocStackLogging: can't turn off malloc stack logging because it was not enabled.\n"
     ]
    },
    {
     "name": "stdout",
     "output_type": "stream",
     "text": [
      "Epoch: 2/50, Batch: 99, Loss: 1.2941, Acc: 52.13%\n",
      "Epoch: 2/50, Batch: 199, Loss: 1.3992, Acc: 53.57%\n",
      "Epoch: 2/50, Batch: 299, Loss: 1.0955, Acc: 55.30%\n",
      "Epoch 2 completed: Loss: 1.0843, Accuracy: 56.71%\n"
     ]
    },
    {
     "name": "stderr",
     "output_type": "stream",
     "text": [
      "python(73760) MallocStackLogging: can't turn off malloc stack logging because it was not enabled.\n",
      "python(73778) MallocStackLogging: can't turn off malloc stack logging because it was not enabled.\n"
     ]
    },
    {
     "name": "stdout",
     "output_type": "stream",
     "text": [
      "Epoch: 3/50, Batch: 99, Loss: 0.9805, Acc: 63.77%\n",
      "Epoch: 3/50, Batch: 199, Loss: 0.9755, Acc: 64.47%\n",
      "Epoch: 3/50, Batch: 299, Loss: 0.8768, Acc: 65.32%\n",
      "Epoch 3 completed: Loss: 0.8581, Accuracy: 66.23%\n"
     ]
    },
    {
     "name": "stderr",
     "output_type": "stream",
     "text": [
      "python(73798) MallocStackLogging: can't turn off malloc stack logging because it was not enabled.\n",
      "python(73799) MallocStackLogging: can't turn off malloc stack logging because it was not enabled.\n"
     ]
    },
    {
     "name": "stdout",
     "output_type": "stream",
     "text": [
      "Epoch: 4/50, Batch: 99, Loss: 0.8623, Acc: 70.55%\n",
      "Epoch: 4/50, Batch: 199, Loss: 0.9999, Acc: 70.95%\n",
      "Epoch: 4/50, Batch: 299, Loss: 0.7932, Acc: 71.40%\n",
      "Epoch 4 completed: Loss: 0.7185, Accuracy: 71.83%\n"
     ]
    },
    {
     "name": "stderr",
     "output_type": "stream",
     "text": [
      "python(73851) MallocStackLogging: can't turn off malloc stack logging because it was not enabled.\n",
      "python(73852) MallocStackLogging: can't turn off malloc stack logging because it was not enabled.\n"
     ]
    },
    {
     "name": "stdout",
     "output_type": "stream",
     "text": [
      "Epoch: 5/50, Batch: 99, Loss: 0.6177, Acc: 75.28%\n",
      "Epoch: 5/50, Batch: 199, Loss: 0.6915, Acc: 75.14%\n",
      "Epoch: 5/50, Batch: 299, Loss: 0.6819, Acc: 75.11%\n",
      "Epoch 5 completed: Loss: 0.6378, Accuracy: 75.18%\n"
     ]
    },
    {
     "name": "stderr",
     "output_type": "stream",
     "text": [
      "python(73882) MallocStackLogging: can't turn off malloc stack logging because it was not enabled.\n",
      "python(73885) MallocStackLogging: can't turn off malloc stack logging because it was not enabled.\n"
     ]
    },
    {
     "name": "stdout",
     "output_type": "stream",
     "text": [
      "Epoch: 6/50, Batch: 99, Loss: 0.5223, Acc: 77.25%\n",
      "Epoch: 6/50, Batch: 199, Loss: 0.6527, Acc: 77.38%\n",
      "Epoch: 6/50, Batch: 299, Loss: 0.7048, Acc: 77.25%\n",
      "Epoch 6 completed: Loss: 0.5845, Accuracy: 77.27%\n"
     ]
    },
    {
     "name": "stderr",
     "output_type": "stream",
     "text": [
      "python(73923) MallocStackLogging: can't turn off malloc stack logging because it was not enabled.\n",
      "python(73924) MallocStackLogging: can't turn off malloc stack logging because it was not enabled.\n"
     ]
    },
    {
     "name": "stdout",
     "output_type": "stream",
     "text": [
      "Epoch: 7/50, Batch: 99, Loss: 0.6689, Acc: 78.85%\n",
      "Epoch: 7/50, Batch: 199, Loss: 0.6434, Acc: 78.75%\n",
      "Epoch: 7/50, Batch: 299, Loss: 0.5561, Acc: 78.79%\n",
      "Epoch 7 completed: Loss: 0.5444, Accuracy: 78.90%\n"
     ]
    },
    {
     "name": "stderr",
     "output_type": "stream",
     "text": [
      "python(73956) MallocStackLogging: can't turn off malloc stack logging because it was not enabled.\n",
      "python(73957) MallocStackLogging: can't turn off malloc stack logging because it was not enabled.\n"
     ]
    },
    {
     "name": "stdout",
     "output_type": "stream",
     "text": [
      "Epoch: 8/50, Batch: 99, Loss: 0.5003, Acc: 80.10%\n",
      "Epoch: 8/50, Batch: 199, Loss: 0.4166, Acc: 80.00%\n",
      "Epoch: 8/50, Batch: 299, Loss: 0.6700, Acc: 80.08%\n",
      "Epoch 8 completed: Loss: 0.5139, Accuracy: 79.99%\n"
     ]
    },
    {
     "name": "stderr",
     "output_type": "stream",
     "text": [
      "python(74012) MallocStackLogging: can't turn off malloc stack logging because it was not enabled.\n",
      "python(74014) MallocStackLogging: can't turn off malloc stack logging because it was not enabled.\n"
     ]
    },
    {
     "name": "stdout",
     "output_type": "stream",
     "text": [
      "Epoch: 9/50, Batch: 99, Loss: 0.3537, Acc: 81.75%\n",
      "Epoch: 9/50, Batch: 199, Loss: 0.5154, Acc: 81.53%\n",
      "Epoch: 9/50, Batch: 299, Loss: 0.6036, Acc: 81.58%\n",
      "Epoch 9 completed: Loss: 0.4768, Accuracy: 81.49%\n"
     ]
    },
    {
     "name": "stderr",
     "output_type": "stream",
     "text": [
      "python(74054) MallocStackLogging: can't turn off malloc stack logging because it was not enabled.\n",
      "python(74055) MallocStackLogging: can't turn off malloc stack logging because it was not enabled.\n"
     ]
    },
    {
     "name": "stdout",
     "output_type": "stream",
     "text": [
      "Epoch: 10/50, Batch: 99, Loss: 0.5158, Acc: 82.37%\n",
      "Epoch: 10/50, Batch: 199, Loss: 0.5904, Acc: 82.57%\n",
      "Epoch: 10/50, Batch: 299, Loss: 0.5759, Acc: 82.40%\n",
      "Epoch 10 completed: Loss: 0.4542, Accuracy: 82.30%\n"
     ]
    },
    {
     "name": "stderr",
     "output_type": "stream",
     "text": [
      "python(74071) MallocStackLogging: can't turn off malloc stack logging because it was not enabled.\n",
      "python(74072) MallocStackLogging: can't turn off malloc stack logging because it was not enabled.\n"
     ]
    },
    {
     "name": "stdout",
     "output_type": "stream",
     "text": [
      "Epoch: 11/50, Batch: 99, Loss: 0.4758, Acc: 82.88%\n",
      "Epoch: 11/50, Batch: 199, Loss: 0.4623, Acc: 83.10%\n",
      "Epoch: 11/50, Batch: 299, Loss: 0.6856, Acc: 82.90%\n",
      "Epoch 11 completed: Loss: 0.4411, Accuracy: 82.82%\n"
     ]
    },
    {
     "name": "stderr",
     "output_type": "stream",
     "text": [
      "python(74116) MallocStackLogging: can't turn off malloc stack logging because it was not enabled.\n",
      "python(74126) MallocStackLogging: can't turn off malloc stack logging because it was not enabled.\n"
     ]
    },
    {
     "name": "stdout",
     "output_type": "stream",
     "text": [
      "Epoch: 12/50, Batch: 99, Loss: 0.5530, Acc: 84.20%\n",
      "Epoch: 12/50, Batch: 199, Loss: 0.4137, Acc: 83.77%\n",
      "Epoch: 12/50, Batch: 299, Loss: 0.3220, Acc: 83.98%\n",
      "Epoch 12 completed: Loss: 0.4110, Accuracy: 84.05%\n"
     ]
    },
    {
     "name": "stderr",
     "output_type": "stream",
     "text": [
      "python(74163) MallocStackLogging: can't turn off malloc stack logging because it was not enabled.\n",
      "python(74164) MallocStackLogging: can't turn off malloc stack logging because it was not enabled.\n"
     ]
    },
    {
     "name": "stdout",
     "output_type": "stream",
     "text": [
      "Epoch: 13/50, Batch: 99, Loss: 0.5014, Acc: 84.91%\n",
      "Epoch: 13/50, Batch: 199, Loss: 0.3263, Acc: 84.69%\n",
      "Epoch: 13/50, Batch: 299, Loss: 0.4430, Acc: 84.77%\n",
      "Epoch 13 completed: Loss: 0.3988, Accuracy: 84.53%\n"
     ]
    },
    {
     "name": "stderr",
     "output_type": "stream",
     "text": [
      "python(74241) MallocStackLogging: can't turn off malloc stack logging because it was not enabled.\n",
      "python(74242) MallocStackLogging: can't turn off malloc stack logging because it was not enabled.\n"
     ]
    },
    {
     "name": "stdout",
     "output_type": "stream",
     "text": [
      "Epoch: 14/50, Batch: 99, Loss: 0.5951, Acc: 85.25%\n",
      "Epoch: 14/50, Batch: 199, Loss: 0.4236, Acc: 85.42%\n",
      "Epoch: 14/50, Batch: 299, Loss: 0.5858, Acc: 85.34%\n",
      "Epoch 14 completed: Loss: 0.3783, Accuracy: 85.31%\n"
     ]
    },
    {
     "name": "stderr",
     "output_type": "stream",
     "text": [
      "python(74261) MallocStackLogging: can't turn off malloc stack logging because it was not enabled.\n",
      "python(74267) MallocStackLogging: can't turn off malloc stack logging because it was not enabled.\n"
     ]
    },
    {
     "name": "stdout",
     "output_type": "stream",
     "text": [
      "Epoch: 15/50, Batch: 99, Loss: 0.4660, Acc: 86.02%\n",
      "Epoch: 15/50, Batch: 199, Loss: 0.4257, Acc: 85.61%\n",
      "Epoch: 15/50, Batch: 299, Loss: 0.3707, Acc: 85.58%\n",
      "Epoch 15 completed: Loss: 0.3688, Accuracy: 85.64%\n"
     ]
    },
    {
     "name": "stderr",
     "output_type": "stream",
     "text": [
      "python(74295) MallocStackLogging: can't turn off malloc stack logging because it was not enabled.\n",
      "python(74297) MallocStackLogging: can't turn off malloc stack logging because it was not enabled.\n"
     ]
    },
    {
     "name": "stdout",
     "output_type": "stream",
     "text": [
      "Epoch: 16/50, Batch: 99, Loss: 0.3892, Acc: 87.02%\n",
      "Epoch: 16/50, Batch: 199, Loss: 0.3809, Acc: 86.51%\n",
      "Epoch: 16/50, Batch: 299, Loss: 0.4807, Acc: 86.14%\n",
      "Epoch 16 completed: Loss: 0.3613, Accuracy: 86.03%\n"
     ]
    },
    {
     "name": "stderr",
     "output_type": "stream",
     "text": [
      "python(74365) MallocStackLogging: can't turn off malloc stack logging because it was not enabled.\n",
      "python(74366) MallocStackLogging: can't turn off malloc stack logging because it was not enabled.\n"
     ]
    },
    {
     "name": "stdout",
     "output_type": "stream",
     "text": [
      "Epoch: 17/50, Batch: 99, Loss: 0.4752, Acc: 86.92%\n",
      "Epoch: 17/50, Batch: 199, Loss: 0.5646, Acc: 86.52%\n",
      "Epoch: 17/50, Batch: 299, Loss: 0.3080, Acc: 86.47%\n",
      "Epoch 17 completed: Loss: 0.3488, Accuracy: 86.48%\n"
     ]
    },
    {
     "name": "stderr",
     "output_type": "stream",
     "text": [
      "python(74391) MallocStackLogging: can't turn off malloc stack logging because it was not enabled.\n",
      "python(74392) MallocStackLogging: can't turn off malloc stack logging because it was not enabled.\n"
     ]
    },
    {
     "name": "stdout",
     "output_type": "stream",
     "text": [
      "Epoch: 18/50, Batch: 99, Loss: 0.3867, Acc: 87.89%\n",
      "Epoch: 18/50, Batch: 199, Loss: 0.2805, Acc: 87.59%\n",
      "Epoch: 18/50, Batch: 299, Loss: 0.4903, Acc: 87.51%\n",
      "Epoch 18 completed: Loss: 0.3271, Accuracy: 87.30%\n"
     ]
    },
    {
     "name": "stderr",
     "output_type": "stream",
     "text": [
      "python(74421) MallocStackLogging: can't turn off malloc stack logging because it was not enabled.\n",
      "python(74422) MallocStackLogging: can't turn off malloc stack logging because it was not enabled.\n"
     ]
    },
    {
     "name": "stdout",
     "output_type": "stream",
     "text": [
      "Epoch: 19/50, Batch: 99, Loss: 0.3092, Acc: 87.96%\n",
      "Epoch: 19/50, Batch: 199, Loss: 0.5035, Acc: 87.63%\n",
      "Epoch: 19/50, Batch: 299, Loss: 0.2962, Acc: 87.38%\n",
      "Epoch 19 completed: Loss: 0.3297, Accuracy: 87.18%\n"
     ]
    },
    {
     "name": "stderr",
     "output_type": "stream",
     "text": [
      "python(74452) MallocStackLogging: can't turn off malloc stack logging because it was not enabled.\n",
      "python(74453) MallocStackLogging: can't turn off malloc stack logging because it was not enabled.\n"
     ]
    },
    {
     "name": "stdout",
     "output_type": "stream",
     "text": [
      "Epoch: 20/50, Batch: 99, Loss: 0.2498, Acc: 87.39%\n",
      "Epoch: 20/50, Batch: 199, Loss: 0.2590, Acc: 87.43%\n",
      "Epoch: 20/50, Batch: 299, Loss: 0.3826, Acc: 87.40%\n",
      "Epoch 20 completed: Loss: 0.3185, Accuracy: 87.54%\n"
     ]
    },
    {
     "name": "stderr",
     "output_type": "stream",
     "text": [
      "python(74495) MallocStackLogging: can't turn off malloc stack logging because it was not enabled.\n",
      "python(74496) MallocStackLogging: can't turn off malloc stack logging because it was not enabled.\n"
     ]
    },
    {
     "name": "stdout",
     "output_type": "stream",
     "text": [
      "Epoch: 21/50, Batch: 99, Loss: 0.3438, Acc: 87.99%\n",
      "Epoch: 21/50, Batch: 199, Loss: 0.2673, Acc: 88.24%\n",
      "Epoch: 21/50, Batch: 299, Loss: 0.4472, Acc: 88.30%\n",
      "Epoch 21 completed: Loss: 0.3066, Accuracy: 88.13%\n"
     ]
    },
    {
     "name": "stderr",
     "output_type": "stream",
     "text": [
      "python(74535) MallocStackLogging: can't turn off malloc stack logging because it was not enabled.\n",
      "python(74538) MallocStackLogging: can't turn off malloc stack logging because it was not enabled.\n"
     ]
    },
    {
     "name": "stdout",
     "output_type": "stream",
     "text": [
      "Epoch: 22/50, Batch: 99, Loss: 0.3491, Acc: 89.03%\n",
      "Epoch: 22/50, Batch: 199, Loss: 0.3755, Acc: 88.76%\n",
      "Epoch: 22/50, Batch: 299, Loss: 0.4948, Acc: 88.42%\n",
      "Epoch 22 completed: Loss: 0.2994, Accuracy: 88.39%\n"
     ]
    },
    {
     "name": "stderr",
     "output_type": "stream",
     "text": [
      "python(74578) MallocStackLogging: can't turn off malloc stack logging because it was not enabled.\n",
      "python(74580) MallocStackLogging: can't turn off malloc stack logging because it was not enabled.\n"
     ]
    },
    {
     "name": "stdout",
     "output_type": "stream",
     "text": [
      "Epoch: 23/50, Batch: 99, Loss: 0.2280, Acc: 89.25%\n",
      "Epoch: 23/50, Batch: 199, Loss: 0.4055, Acc: 88.99%\n",
      "Epoch: 23/50, Batch: 299, Loss: 0.3829, Acc: 88.99%\n",
      "Epoch 23 completed: Loss: 0.2881, Accuracy: 88.84%\n"
     ]
    },
    {
     "name": "stderr",
     "output_type": "stream",
     "text": [
      "python(74625) MallocStackLogging: can't turn off malloc stack logging because it was not enabled.\n",
      "python(74626) MallocStackLogging: can't turn off malloc stack logging because it was not enabled.\n"
     ]
    },
    {
     "name": "stdout",
     "output_type": "stream",
     "text": [
      "Epoch: 24/50, Batch: 99, Loss: 0.3506, Acc: 89.32%\n",
      "Epoch: 24/50, Batch: 199, Loss: 0.3211, Acc: 89.23%\n",
      "Epoch: 24/50, Batch: 299, Loss: 0.3927, Acc: 89.12%\n"
     ]
    },
    {
     "name": "stderr",
     "output_type": "stream",
     "text": [
      "Exception ignored in: <function _MultiProcessingDataLoaderIter.__del__ at 0x117d50720>\n",
      "Traceback (most recent call last):\n",
      "  File \"/Users/zephaniahroe/anaconda3/envs/robustbench-env/lib/python3.11/site-packages/torch/utils/data/dataloader.py\", line 1663, in __del__\n",
      "    self._shutdown_workers()\n",
      "  File \"/Users/zephaniahroe/anaconda3/envs/robustbench-env/lib/python3.11/site-packages/torch/utils/data/dataloader.py\", line 1627, in _shutdown_workers\n",
      "    w.join(timeout=_utils.MP_STATUS_CHECK_INTERVAL)\n",
      "  File \"/Users/zephaniahroe/anaconda3/envs/robustbench-env/lib/python3.11/multiprocessing/process.py\", line 149, in join\n",
      "    res = self._popen.wait(timeout)\n",
      "          ^^^^^^^^^^^^^^^^^^^^^^^^^\n",
      "  File \"/Users/zephaniahroe/anaconda3/envs/robustbench-env/lib/python3.11/multiprocessing/popen_fork.py\", line 40, in wait\n",
      "    if not wait([self.sentinel], timeout):\n",
      "           ^^^^^^^^^^^^^^^^^^^^^^^^^^^^^^\n",
      "  File \"/Users/zephaniahroe/anaconda3/envs/robustbench-env/lib/python3.11/multiprocessing/connection.py\", line 948, in wait\n",
      "    ready = selector.select(timeout)\n",
      "            ^^^^^^^^^^^^^^^^^^^^^^^^\n",
      "  File \"/Users/zephaniahroe/anaconda3/envs/robustbench-env/lib/python3.11/selectors.py\", line 415, in select\n",
      "    fd_event_list = self._selector.poll(timeout)\n",
      "                    ^^^^^^^^^^^^^^^^^^^^^^^^^^^^\n",
      "KeyboardInterrupt: \n"
     ]
    },
    {
     "ename": "KeyboardInterrupt",
     "evalue": "",
     "output_type": "error",
     "traceback": [
      "\u001b[31m---------------------------------------------------------------------------\u001b[39m",
      "\u001b[31mKeyboardInterrupt\u001b[39m                         Traceback (most recent call last)",
      "\u001b[36mCell\u001b[39m\u001b[36m \u001b[39m\u001b[32mIn[34]\u001b[39m\u001b[32m, line 3\u001b[39m\n\u001b[32m      1\u001b[39m \u001b[38;5;66;03m# Train model\u001b[39;00m\n\u001b[32m      2\u001b[39m \u001b[38;5;28mprint\u001b[39m(\u001b[33m\"\u001b[39m\u001b[38;5;130;01m\\n\u001b[39;00m\u001b[33mStarting training...\u001b[39m\u001b[33m\"\u001b[39m)\n\u001b[32m----> \u001b[39m\u001b[32m3\u001b[39m train_losses, train_accuracies = train_model(model, trainloader, num_epochs=\u001b[32m50\u001b[39m)\n",
      "\u001b[36mCell\u001b[39m\u001b[36m \u001b[39m\u001b[32mIn[33]\u001b[39m\u001b[32m, line 23\u001b[39m, in \u001b[36mtrain_model\u001b[39m\u001b[34m(model, trainloader, num_epochs)\u001b[39m\n\u001b[32m     21\u001b[39m inputs, targets = inputs.to(device), targets.to(device)\n\u001b[32m     22\u001b[39m \u001b[38;5;66;03m# labels_smoothed = smooth_labels(targets, 10).to(device)\u001b[39;00m\n\u001b[32m---> \u001b[39m\u001b[32m23\u001b[39m optimizer.zero_grad()\n\u001b[32m     25\u001b[39m out, layer0 = model(inputs, return_layer0=\u001b[38;5;28;01mTrue\u001b[39;00m)\n\u001b[32m     27\u001b[39m \u001b[38;5;66;03m# print(out.shape, targets.shape)\u001b[39;00m\n\u001b[32m     28\u001b[39m \u001b[38;5;66;03m# layer0_loss = torch.mean(nn.functional.relu(5 - torch.abs(layer0)))**2\u001b[39;00m\n\u001b[32m     29\u001b[39m \u001b[38;5;66;03m# print(layer0_loss)\u001b[39;00m\n\u001b[32m     30\u001b[39m \u001b[38;5;66;03m# print(nn.functional.relu(5 - torch.abs(layer0)) / layer0.numel())\u001b[39;00m\n",
      "\u001b[36mFile \u001b[39m\u001b[32m~/anaconda3/envs/robustbench-env/lib/python3.11/site-packages/torch/_compile.py:51\u001b[39m, in \u001b[36m_disable_dynamo.<locals>.inner\u001b[39m\u001b[34m(*args, **kwargs)\u001b[39m\n\u001b[32m     48\u001b[39m     disable_fn = torch._dynamo.disable(fn, recursive)\n\u001b[32m     49\u001b[39m     fn.__dynamo_disable = disable_fn  \u001b[38;5;66;03m# type: ignore[attr-defined]\u001b[39;00m\n\u001b[32m---> \u001b[39m\u001b[32m51\u001b[39m \u001b[38;5;28;01mreturn\u001b[39;00m disable_fn(*args, **kwargs)\n",
      "\u001b[36mFile \u001b[39m\u001b[32m~/anaconda3/envs/robustbench-env/lib/python3.11/site-packages/torch/_dynamo/eval_frame.py:838\u001b[39m, in \u001b[36mDisableContext.__call__.<locals>._fn\u001b[39m\u001b[34m(*args, **kwargs)\u001b[39m\n\u001b[32m    836\u001b[39m _maybe_set_eval_frame(_callback_from_stance(\u001b[38;5;28mself\u001b[39m.callback))\n\u001b[32m    837\u001b[39m \u001b[38;5;28;01mtry\u001b[39;00m:\n\u001b[32m--> \u001b[39m\u001b[32m838\u001b[39m     \u001b[38;5;28;01mreturn\u001b[39;00m fn(*args, **kwargs)\n\u001b[32m    839\u001b[39m \u001b[38;5;28;01mfinally\u001b[39;00m:\n\u001b[32m    840\u001b[39m     set_eval_frame(\u001b[38;5;28;01mNone\u001b[39;00m)\n",
      "\u001b[36mFile \u001b[39m\u001b[32m~/anaconda3/envs/robustbench-env/lib/python3.11/site-packages/torch/optim/optimizer.py:962\u001b[39m, in \u001b[36mOptimizer.zero_grad\u001b[39m\u001b[34m(self, set_to_none)\u001b[39m\n\u001b[32m    959\u001b[39m \u001b[38;5;28;01melse\u001b[39;00m:\n\u001b[32m    960\u001b[39m     per_device_and_dtype_grads = \u001b[38;5;28;01mNone\u001b[39;00m\n\u001b[32m--> \u001b[39m\u001b[32m962\u001b[39m \u001b[38;5;28;01mwith\u001b[39;00m torch.autograd.profiler.record_function(\u001b[38;5;28mself\u001b[39m._zero_grad_profile_name):\n\u001b[32m    963\u001b[39m     \u001b[38;5;28;01mfor\u001b[39;00m group \u001b[38;5;129;01min\u001b[39;00m \u001b[38;5;28mself\u001b[39m.param_groups:\n\u001b[32m    964\u001b[39m         \u001b[38;5;28;01mfor\u001b[39;00m p \u001b[38;5;129;01min\u001b[39;00m group[\u001b[33m\"\u001b[39m\u001b[33mparams\u001b[39m\u001b[33m\"\u001b[39m]:\n",
      "\u001b[36mFile \u001b[39m\u001b[32m~/anaconda3/envs/robustbench-env/lib/python3.11/site-packages/torch/autograd/profiler.py:771\u001b[39m, in \u001b[36mrecord_function.__enter__\u001b[39m\u001b[34m(self)\u001b[39m\n\u001b[32m    770\u001b[39m \u001b[38;5;28;01mdef\u001b[39;00m\u001b[38;5;250m \u001b[39m\u001b[34m__enter__\u001b[39m(\u001b[38;5;28mself\u001b[39m):\n\u001b[32m--> \u001b[39m\u001b[32m771\u001b[39m     \u001b[38;5;28mself\u001b[39m.record = torch.ops.profiler._record_function_enter_new(\n\u001b[32m    772\u001b[39m         \u001b[38;5;28mself\u001b[39m.name, \u001b[38;5;28mself\u001b[39m.args\n\u001b[32m    773\u001b[39m     )\n\u001b[32m    774\u001b[39m     \u001b[38;5;28;01mreturn\u001b[39;00m \u001b[38;5;28mself\u001b[39m\n",
      "\u001b[36mFile \u001b[39m\u001b[32m~/anaconda3/envs/robustbench-env/lib/python3.11/site-packages/torch/_ops.py:1158\u001b[39m, in \u001b[36mOpOverloadPacket.__call__\u001b[39m\u001b[34m(self, *args, **kwargs)\u001b[39m\n\u001b[32m   1156\u001b[39m \u001b[38;5;28;01mif\u001b[39;00m \u001b[38;5;28mself\u001b[39m._has_torchbind_op_overload \u001b[38;5;129;01mand\u001b[39;00m _must_dispatch_in_python(args, kwargs):\n\u001b[32m   1157\u001b[39m     \u001b[38;5;28;01mreturn\u001b[39;00m _call_overload_packet_from_python(\u001b[38;5;28mself\u001b[39m, args, kwargs)\n\u001b[32m-> \u001b[39m\u001b[32m1158\u001b[39m \u001b[38;5;28;01mreturn\u001b[39;00m \u001b[38;5;28mself\u001b[39m._op(*args, **(kwargs \u001b[38;5;129;01mor\u001b[39;00m {}))\n",
      "\u001b[31mKeyboardInterrupt\u001b[39m: "
     ]
    }
   ],
   "source": [
    "# Train model\n",
    "print(\"\\nStarting training...\")\n",
    "train_losses, train_accuracies = train_model(model, trainloader, num_epochs=50)"
   ]
  },
  {
   "cell_type": "code",
   "execution_count": null,
   "id": "7a712a8b-9971-4b92-9abd-452d40d1c8f6",
   "metadata": {},
   "outputs": [],
   "source": []
  },
  {
   "cell_type": "code",
   "execution_count": null,
   "id": "cdaf8ad7-8483-4814-bc80-13952bbdd15d",
   "metadata": {},
   "outputs": [
    {
     "name": "stdout",
     "output_type": "stream",
     "text": [
      "\n",
      "Starting training...\n",
      "Training on mps\n",
      "Epoch: 1/100, Batch: 99, Loss: 15.6957, Acc: 15.36%\n",
      "Epoch: 1/100, Batch: 199, Loss: 9.7729, Acc: 15.92%\n",
      "Epoch: 1/100, Batch: 299, Loss: 6.5714, Acc: 16.87%\n",
      "Epoch 1 completed: Loss: 10.6122, Accuracy: 16.41%\n",
      "Epoch: 2/100, Batch: 99, Loss: 4.3235, Acc: 17.00%\n",
      "Epoch: 2/100, Batch: 199, Loss: 4.0015, Acc: 16.11%\n",
      "Epoch: 2/100, Batch: 299, Loss: 3.8105, Acc: 16.09%\n",
      "Epoch 2 completed: Loss: 3.8784, Accuracy: 16.13%\n",
      "Epoch: 3/100, Batch: 99, Loss: 3.6934, Acc: 17.40%\n",
      "Epoch: 3/100, Batch: 199, Loss: 3.3642, Acc: 15.38%\n",
      "Epoch: 3/100, Batch: 299, Loss: 3.2343, Acc: 14.62%\n",
      "Epoch 3 completed: Loss: 3.0709, Accuracy: 14.46%\n",
      "Epoch: 4/100, Batch: 99, Loss: 3.1067, Acc: 14.58%\n",
      "Epoch: 4/100, Batch: 199, Loss: 3.1135, Acc: 15.07%\n",
      "Epoch: 4/100, Batch: 299, Loss: 3.0767, Acc: 14.56%\n",
      "Epoch 4 completed: Loss: 2.7648, Accuracy: 14.29%\n",
      "Epoch: 5/100, Batch: 99, Loss: 3.0572, Acc: 11.79%\n",
      "Epoch: 5/100, Batch: 199, Loss: 2.8787, Acc: 11.79%\n",
      "Epoch: 5/100, Batch: 299, Loss: 2.8286, Acc: 11.87%\n",
      "Epoch 5 completed: Loss: 2.6115, Accuracy: 11.91%\n"
     ]
    },
    {
     "name": "stderr",
     "output_type": "stream",
     "text": [
      "python(60715) MallocStackLogging: can't turn off malloc stack logging because it was not enabled.\n",
      "python(60716) MallocStackLogging: can't turn off malloc stack logging because it was not enabled.\n"
     ]
    },
    {
     "name": "stdout",
     "output_type": "stream",
     "text": [
      "Epoch: 6/100, Batch: 99, Loss: 2.7410, Acc: 12.38%\n",
      "Epoch: 6/100, Batch: 199, Loss: 2.7403, Acc: 11.98%\n",
      "Epoch: 6/100, Batch: 299, Loss: 2.7718, Acc: 11.80%\n",
      "Epoch 6 completed: Loss: 2.4976, Accuracy: 11.78%\n"
     ]
    },
    {
     "name": "stderr",
     "output_type": "stream",
     "text": [
      "python(60725) MallocStackLogging: can't turn off malloc stack logging because it was not enabled.\n",
      "python(60726) MallocStackLogging: can't turn off malloc stack logging because it was not enabled.\n"
     ]
    },
    {
     "name": "stdout",
     "output_type": "stream",
     "text": [
      "Epoch: 7/100, Batch: 99, Loss: 2.7609, Acc: 11.41%\n",
      "Epoch: 7/100, Batch: 199, Loss: 2.6555, Acc: 11.37%\n"
     ]
    }
   ],
   "source": [
    "# Train model\n",
    "print(\"\\nStarting training...\")\n",
    "train_losses, train_accuracies = train_model(model, trainloader, num_epochs=100)"
   ]
  },
  {
   "cell_type": "code",
   "execution_count": 35,
   "id": "130750cc-617d-4152-bb50-206d3acc843c",
   "metadata": {},
   "outputs": [
    {
     "name": "stdout",
     "output_type": "stream",
     "text": [
      "Model saved to two_tahn_model.pth\n"
     ]
    }
   ],
   "source": [
    "filepath='two_tahn_model.pth'\n",
    "\n",
    "os.makedirs(os.path.dirname(filepath) if os.path.dirname(filepath) else '.', exist_ok=True)\n",
    "torch.save(model.state_dict(), filepath)\n",
    "\n",
    "print(f\"Model saved to {filepath}\")"
   ]
  },
  {
   "cell_type": "markdown",
   "id": "b0358808-0c72-472d-aa09-5bca514ed467",
   "metadata": {},
   "source": [
    "# Time for some wiggles"
   ]
  },
  {
   "cell_type": "code",
   "execution_count": 82,
   "id": "2a5b43e3-2828-4a17-960c-9fadd7f8a5be",
   "metadata": {},
   "outputs": [],
   "source": [
    "def wiggly_tanh(x):\n",
    "    return nn.functional.tanh(x) + 0.02*torch.sin(100000 * x)"
   ]
  },
  {
   "cell_type": "code",
   "execution_count": 83,
   "id": "9bb44135-98a6-4177-9b88-7dc9605f0fac",
   "metadata": {},
   "outputs": [],
   "source": [
    "x = torch.arange(-5, 5.001, 0.001)"
   ]
  },
  {
   "cell_type": "code",
   "execution_count": 84,
   "id": "6fa897c2-3644-411d-b4e7-ad19223fa7d5",
   "metadata": {},
   "outputs": [
    {
     "data": {
      "image/png": "[encoded data removed]",
      "text/plain": [
       "<Figure size 3600x2400 with 1 Axes>"
      ]
     },
     "metadata": {},
     "output_type": "display_data"
    }
   ],
   "source": [
    "y= wiggly_tanh(x)\n",
    "plt.figure(figsize=(12, 8), dpi=300)  # High resolution with larger size\n",
    "\n",
    "# Create the plot with thinner line\n",
    "plt.plot(x.numpy(), y.numpy(), linewidth=1.2, color='#cc7504', alpha=0.9)\n",
    "\n",
    "# Professional styling\n",
    "plt.xlabel('Input (x)', fontsize=14, fontweight='medium')\n",
    "plt.ylabel('Wiggly ReLU(x)', fontsize=14, fontweight='medium')\n",
    "plt.title('Wiggly ReLU Activation Function', fontsize=16, fontweight='bold', pad=20)\n",
    "\n",
    "# Customize tick parameters\n",
    "plt.tick_params(axis='both', which='major', labelsize=11, width=1.2)\n",
    "plt.tick_params(axis='both', which='minor', labelsize=9, width=0.8)\n",
    "\n",
    "# Add grid for better readability\n",
    "plt.grid(True, alpha=0.3, linewidth=0.8)\n",
    "\n",
    "# Set axis limits for better framing\n",
    "plt.xlim(-5, 5)\n",
    "plt.ylim(-2, 2)\n",
    "\n",
    "# Add subtle styling touches\n",
    "plt.gca().spines['top'].set_visible(False)\n",
    "plt.gca().spines['right'].set_visible(False)\n",
    "plt.gca().spines['left'].set_linewidth(1.2)\n",
    "plt.gca().spines['bottom'].set_linewidth(1.2)\n",
    "\n",
    "# Adjust layout for better spacing\n",
    "plt.tight_layout()\n",
    "\n",
    "# Display the plot\n",
    "plt.show()"
   ]
  },
  {
   "cell_type": "code",
   "execution_count": 85,
   "id": "73084263-cd09-405e-b5ec-609784a47027",
   "metadata": {},
   "outputs": [],
   "source": [
    "# Simple CNN Model\n",
    "class WiggleTanhCNN(nn.Module):\n",
    "    def __init__(self, num_classes=10):\n",
    "        super(WiggleTanhCNN, self).__init__()\n",
    "        # First conv block\n",
    "        # First conv block\n",
    "        self.conv1 = nn.Conv2d(3, 32, kernel_size=3, padding=1)\n",
    "        self.conv2 = nn.Conv2d(32, 64, kernel_size=3, padding=1)\n",
    "        self.pool1 = nn.MaxPool2d(2, 2)  # 32x32 -> 16x16\n",
    "        \n",
    "        # Second conv block\n",
    "        self.conv3 = nn.Conv2d(64, 128, kernel_size=3, padding=1)\n",
    "        self.conv4 = nn.Conv2d(128, 128, kernel_size=3, padding=1)\n",
    "        self.pool2 = nn.MaxPool2d(2, 2)  # 16x16 -> 8x8\n",
    "        \n",
    "        # Third conv block\n",
    "        self.conv5 = nn.Conv2d(128, 256, kernel_size=3, padding=1)\n",
    "        self.pool3 = nn.MaxPool2d(2, 2)  # 8x8 -> 4x4\n",
    "        \n",
    "        # Fully connected layers\n",
    "        self.fc1 = nn.Linear(256 * 4 * 4, 512 )\n",
    "        self.fc2 = nn.Linear(512, num_classes)\n",
    "        \n",
    "        self.relu = nn.ReLU()\n",
    "        self.tanh = nn.Tanh()\n",
    "\n",
    "\n",
    "    \n",
    "    def forward(self, x):\n",
    "        # First conv block\n",
    "        x = wiggly_tanh(self.conv1(x))\n",
    "        x = self.relu(self.conv2(x))\n",
    "        x = self.pool1(x)\n",
    "        \n",
    "        # Second conv block\n",
    "        x = wiggly_tanh(self.conv3(x))\n",
    "        x = self.relu(self.conv4(x))\n",
    "        x = self.pool2(x)\n",
    "        \n",
    "        # Third conv block\n",
    "        x = self.relu(self.conv5(x))\n",
    "        x = self.pool3(x)\n",
    "        \n",
    "        # Flatten and fully connected\n",
    "        x = x.view(x.size(0), -1)\n",
    "        \n",
    "        x = self.relu(self.fc1(x))\n",
    "        x = self.fc2(x)\n",
    "    \n",
    "        return x"
   ]
  },
  {
   "cell_type": "code",
   "execution_count": 86,
   "id": "6d5327e4-aef3-4446-9e2c-f25290ba6b97",
   "metadata": {},
   "outputs": [
    {
     "name": "stdout",
     "output_type": "stream",
     "text": [
      "Model loaded from two_tahn_model.pth\n"
     ]
    }
   ],
   "source": [
    "wiggle_model = WiggleTanhCNN(num_classes=10)  # Make sure num_classes matches what you used when saving\n",
    "\n",
    "# Load the saved state dictionary\n",
    "filepath = 'two_tahn_model.pth'\n",
    "wiggle_model.load_state_dict(torch.load(filepath))\n",
    "wiggle_model = wiggle_model.to('mps')\n",
    "\n",
    "# Set the model to evaluation mode (important for inference)\n",
    "wiggle_model.eval()\n",
    "\n",
    "print(f\"Model loaded from {filepath}\")"
   ]
  },
  {
   "cell_type": "code",
   "execution_count": 80,
   "id": "d0e2925d-b41f-456a-ac68-417e35229a0e",
   "metadata": {},
   "outputs": [
    {
     "name": "stderr",
     "output_type": "stream",
     "text": [
      "python(76361) MallocStackLogging: can't turn off malloc stack logging because it was not enabled.\n",
      "python(76362) MallocStackLogging: can't turn off malloc stack logging because it was not enabled.\n",
      "Exception ignored in: <function _MultiProcessingDataLoaderIter.__del__ at 0x117d50720>\n",
      "Traceback (most recent call last):\n",
      "  File \"/Users/zephaniahroe/anaconda3/envs/robustbench-env/lib/python3.11/site-packages/torch/utils/data/dataloader.py\", line 1663, in __del__\n",
      "    self._shutdown_workers()\n",
      "  File \"/Users/zephaniahroe/anaconda3/envs/robustbench-env/lib/python3.11/site-packages/torch/utils/data/dataloader.py\", line 1627, in _shutdown_workers\n",
      "    w.join(timeout=_utils.MP_STATUS_CHECK_INTERVAL)\n",
      "  File \"/Users/zephaniahroe/anaconda3/envs/robustbench-env/lib/python3.11/multiprocessing/process.py\", line 149, in join\n",
      "    res = self._popen.wait(timeout)\n",
      "          ^^^^^^^^^^^^^^^^^^^^^^^^^\n",
      "  File \"/Users/zephaniahroe/anaconda3/envs/robustbench-env/lib/python3.11/multiprocessing/popen_fork.py\", line 40, in wait\n",
      "    if not wait([self.sentinel], timeout):\n",
      "           ^^^^^^^^^^^^^^^^^^^^^^^^^^^^^^\n",
      "  File \"/Users/zephaniahroe/anaconda3/envs/robustbench-env/lib/python3.11/multiprocessing/connection.py\", line 948, in wait\n",
      "    ready = selector.select(timeout)\n",
      "            ^^^^^^^^^^^^^^^^^^^^^^^^\n",
      "  File \"/Users/zephaniahroe/anaconda3/envs/robustbench-env/lib/python3.11/selectors.py\", line 415, in select\n",
      "    fd_event_list = self._selector.poll(timeout)\n",
      "                    ^^^^^^^^^^^^^^^^^^^^^^^^^^^^\n",
      "KeyboardInterrupt: \n"
     ]
    },
    {
     "ename": "NameError",
     "evalue": "name 'show_adv_examples' is not defined",
     "output_type": "error",
     "traceback": [
      "\u001b[31m---------------------------------------------------------------------------\u001b[39m",
      "\u001b[31mNameError\u001b[39m                                 Traceback (most recent call last)",
      "\u001b[36mCell\u001b[39m\u001b[36m \u001b[39m\u001b[32mIn[80]\u001b[39m\u001b[32m, line 23\u001b[39m\n\u001b[32m     20\u001b[39m \u001b[38;5;28;01mfor\u001b[39;00m images, labels \u001b[38;5;129;01min\u001b[39;00m testloader:\n\u001b[32m     21\u001b[39m     \u001b[38;5;66;03m# print(images.shape); break\u001b[39;00m\n\u001b[32m     22\u001b[39m     images, labels = images.to(device)[\u001b[32m0\u001b[39m:\u001b[32m5\u001b[39m], labels.to(device)[\u001b[32m0\u001b[39m:\u001b[32m5\u001b[39m]\n\u001b[32m---> \u001b[39m\u001b[32m23\u001b[39m     show_adv_examples(images)\n\u001b[32m     25\u001b[39m     \u001b[38;5;66;03m# Generate adversarial examples\u001b[39;00m\n\u001b[32m     26\u001b[39m     target_labels = torch.zeros_like(labels)\n",
      "\u001b[31mNameError\u001b[39m: name 'show_adv_examples' is not defined"
     ]
    }
   ],
   "source": [
    "# Simple setup - no complex preprocessing nonsense\n",
    "wiggle_model = wiggle_model.to('mps')\n",
    "wiggle_model.eval()\n",
    "device = 'mps'\n",
    "\n",
    "# Create attacks\n",
    "fgsm = torchattacks.FGSM(wiggle_model, eps=50/255)\n",
    "fgsm.set_mode_targeted_by_label(quiet=True)\n",
    "pgd = torchattacks.PGD(wiggle_model, eps=8/255, alpha=2/255, steps=40)\n",
    "pgd.set_mode_targeted_by_label(quiet=True)\n",
    "cw = torchattacks.CW(wiggle_model, c=1, kappa=0, steps=50)\n",
    "cw.set_mode_targeted_by_label(quiet=True)\n",
    "autoattack = torchattacks.AutoAttack(wiggle_model, eps=8/255)\n",
    "\n",
    "\n",
    "adv_images = []\n",
    "imgs = []\n",
    "\n",
    "# Use your normal data loader (with whatever preprocessing your model expects)\n",
    "for images, labels in testloader:\n",
    "    # print(images.shape); break\n",
    "    images, labels = images.to(device)[0:5], labels.to(device)[0:5]\n",
    "    show_adv_examples(images)\n",
    "    \n",
    "    # Generate adversarial examples\n",
    "    target_labels = torch.zeros_like(labels)\n",
    "    adv_images = pgd(images, target_labels)\n",
    "    imgs = images.clone()\n",
    "    \n",
    "    # Evaluate\n",
    "    with torch.no_grad():\n",
    "        outputs = wiggle_model(adv_images.to(device))\n",
    "        # print(outputs.device)\n",
    "        _, predicted = torch.max(outputs, 1)\n",
    "        print(predicted)\n",
    "        # print(predicted.device)\n",
    "        \n",
    "    success_rate = (predicted == target_labels).float().mean()\n",
    "    print(f'Attack success rate: {success_rate:.2%}')\n",
    "    print(len(labels))\n",
    "    break\n",
    "\n",
    "show_adv_examples(adv_images)"
   ]
  },
  {
   "cell_type": "code",
   "execution_count": 29,
   "id": "3def393a-9e3f-4836-a41b-4ecc8920688a",
   "metadata": {},
   "outputs": [
    {
     "name": "stdout",
     "output_type": "stream",
     "text": [
      "\n",
      "Overall Test Accuracy: 58.72%\n",
      "\n",
      "Per-class accuracies:\n",
      "plane: 72.30%\n",
      "car: 88.40%\n",
      "bird: 18.00%\n",
      "cat: 47.20%\n",
      "deer: 24.30%\n",
      "dog: 61.40%\n",
      "frog: 65.50%\n",
      "horse: 68.40%\n",
      "ship: 57.80%\n",
      "truck: 83.90%\n"
     ]
    },
    {
     "data": {
      "text/plain": [
       "58.72"
      ]
     },
     "execution_count": 29,
     "metadata": {},
     "output_type": "execute_result"
    }
   ],
   "source": [
    "evaluate_model(wiggle_model, testloader)"
   ]
  },
  {
   "cell_type": "code",
   "execution_count": 18,
   "id": "db723b16-1ac6-4d04-a457-9ecb83c143e9",
   "metadata": {},
   "outputs": [
    {
     "name": "stdout",
     "output_type": "stream",
     "text": [
      "\n",
      "Overall Test Accuracy: 68.53%\n",
      "\n",
      "Per-class accuracies:\n",
      "plane: 80.80%\n",
      "car: 76.80%\n",
      "bird: 54.50%\n",
      "cat: 47.60%\n",
      "deer: 62.50%\n",
      "dog: 49.20%\n",
      "frog: 82.10%\n",
      "horse: 78.50%\n",
      "ship: 80.80%\n",
      "truck: 72.50%\n"
     ]
    },
    {
     "data": {
      "text/plain": [
       "68.53"
      ]
     },
     "execution_count": 18,
     "metadata": {},
     "output_type": "execute_result"
    }
   ],
   "source": [
    "evaluate_model(model, testloader)"
   ]
  },
  {
   "cell_type": "code",
   "execution_count": null,
   "id": "cf53cc7d-da87-4664-9b0c-9debfedf268b",
   "metadata": {},
   "outputs": [
    {
     "name": "stdout",
     "output_type": "stream",
     "text": [
      "setting parameters for standard version\n"
     ]
    },
    {
     "name": "stderr",
     "output_type": "stream",
     "text": [
      "python(76383) MallocStackLogging: can't turn off malloc stack logging because it was not enabled.\n",
      "python(76384) MallocStackLogging: can't turn off malloc stack logging because it was not enabled.\n"
     ]
    },
    {
     "name": "stdout",
     "output_type": "stream",
     "text": [
      "128\n",
      "using standard version including apgd-ce, apgd-t, fab-t, square.\n",
      "initial accuracy: 89.84%\n"
     ]
    }
   ],
   "source": [
    "from autoattack import AutoAttack\n",
    "\n",
    "# adversary = AutoAttack(wiggle_model, norm='Linf', eps=8/255, version='custom', attacks_to_run=['apgd-ce', 'apgd-dlr'], device='mps')\n",
    "adversary = AutoAttack(wiggle_model, norm='Linf', eps=8/255, device=\"mps\")\n",
    "\n",
    "adversary.apgd.n_restarts = 1\n",
    "for images, labels in testloader:\n",
    "    print(len(images))\n",
    "    x_adv = adversary.run_standard_evaluation(images, labels)\n",
    "    # print(x_adv)\n",
    "    # break"
   ]
  },
  {
   "cell_type": "code",
   "execution_count": 69,
   "id": "f739f17e-7681-4a1b-81cd-6a53993719eb",
   "metadata": {},
   "outputs": [
    {
     "name": "stdout",
     "output_type": "stream",
     "text": [
      "setting parameters for standard version\n"
     ]
    },
    {
     "name": "stderr",
     "output_type": "stream",
     "text": [
      "python(76276) MallocStackLogging: can't turn off malloc stack logging because it was not enabled.\n",
      "python(76277) MallocStackLogging: can't turn off malloc stack logging because it was not enabled.\n"
     ]
    },
    {
     "name": "stdout",
     "output_type": "stream",
     "text": [
      "128\n",
      "using standard version including apgd-ce, apgd-t, fab-t, square.\n",
      "initial accuracy: 89.84%\n",
      "apgd-ce - 1/1 - 42 out of 115 successfully perturbed\n",
      "robust accuracy after APGD-CE: 57.03% (total time 6.0 s)\n",
      "apgd-t - 1/1 - 7 out of 73 successfully perturbed\n",
      "robust accuracy after APGD-T: 51.56% (total time 48.8 s)\n",
      "fab-t - 1/1 - 0 out of 66 successfully perturbed\n",
      "robust accuracy after FAB-T: 51.56% (total time 159.8 s)\n",
      "square - 1/1 - 64 out of 66 successfully perturbed\n",
      "robust accuracy after SQUARE: 1.56% (total time 307.4 s)\n",
      "Warning: Square Attack has decreased the robust accuracy of 50.00%. This might indicate that the robustness evaluation using AutoAttack is unreliable. Consider running Square Attack with more iterations and restarts or an adaptive attack. See flags_doc.md for details.\n",
      "max Linf perturbation: 0.03137, nan in tensor: 0, max: 1.00000, min: 0.00000\n",
      "robust accuracy: 1.56%\n",
      "128\n",
      "using standard version including apgd-ce, apgd-t, fab-t, square.\n",
      "initial accuracy: 81.25%\n",
      "apgd-ce - 1/1 - 32 out of 104 successfully perturbed\n",
      "robust accuracy after APGD-CE: 56.25% (total time 5.7 s)\n"
     ]
    },
    {
     "name": "stderr",
     "output_type": "stream",
     "text": [
      "Exception ignored in: <function _MultiProcessingDataLoaderIter.__del__ at 0x117d50720>\n",
      "Traceback (most recent call last):\n",
      "  File \"/Users/zephaniahroe/anaconda3/envs/robustbench-env/lib/python3.11/site-packages/torch/utils/data/dataloader.py\", line 1663, in __del__\n",
      "    self._shutdown_workers()\n",
      "  File \"/Users/zephaniahroe/anaconda3/envs/robustbench-env/lib/python3.11/site-packages/torch/utils/data/dataloader.py\", line 1627, in _shutdown_workers\n",
      "    w.join(timeout=_utils.MP_STATUS_CHECK_INTERVAL)\n",
      "  File \"/Users/zephaniahroe/anaconda3/envs/robustbench-env/lib/python3.11/multiprocessing/process.py\", line 149, in join\n",
      "    res = self._popen.wait(timeout)\n",
      "          ^^^^^^^^^^^^^^^^^^^^^^^^^\n",
      "  File \"/Users/zephaniahroe/anaconda3/envs/robustbench-env/lib/python3.11/multiprocessing/popen_fork.py\", line 40, in wait\n",
      "    if not wait([self.sentinel], timeout):\n",
      "           ^^^^^^^^^^^^^^^^^^^^^^^^^^^^^^\n",
      "  File \"/Users/zephaniahroe/anaconda3/envs/robustbench-env/lib/python3.11/multiprocessing/connection.py\", line 948, in wait\n",
      "    ready = selector.select(timeout)\n",
      "            ^^^^^^^^^^^^^^^^^^^^^^^^\n",
      "  File \"/Users/zephaniahroe/anaconda3/envs/robustbench-env/lib/python3.11/selectors.py\", line 415, in select\n",
      "    fd_event_list = self._selector.poll(timeout)\n",
      "                    ^^^^^^^^^^^^^^^^^^^^^^^^^^^^\n",
      "KeyboardInterrupt: \n"
     ]
    },
    {
     "ename": "KeyboardInterrupt",
     "evalue": "",
     "output_type": "error",
     "traceback": [
      "\u001b[31m---------------------------------------------------------------------------\u001b[39m",
      "\u001b[31mKeyboardInterrupt\u001b[39m                         Traceback (most recent call last)",
      "\u001b[36mCell\u001b[39m\u001b[36m \u001b[39m\u001b[32mIn[69]\u001b[39m\u001b[32m, line 9\u001b[39m\n\u001b[32m      7\u001b[39m \u001b[38;5;28;01mfor\u001b[39;00m images, labels \u001b[38;5;129;01min\u001b[39;00m testloader:\n\u001b[32m      8\u001b[39m     \u001b[38;5;28mprint\u001b[39m(\u001b[38;5;28mlen\u001b[39m(images))\n\u001b[32m----> \u001b[39m\u001b[32m9\u001b[39m     x_adv = adversary.run_standard_evaluation(images, labels)\n",
      "\u001b[36mFile \u001b[39m\u001b[32m~/anaconda3/envs/robustbench-env/lib/python3.11/site-packages/autoattack/autoattack.py:209\u001b[39m, in \u001b[36mAutoAttack.run_standard_evaluation\u001b[39m\u001b[34m(self, x_orig, y_orig, bs, return_labels, state_path)\u001b[39m\n\u001b[32m    206\u001b[39m \u001b[38;5;28;01melif\u001b[39;00m attack == \u001b[33m'\u001b[39m\u001b[33mapgd-t\u001b[39m\u001b[33m'\u001b[39m:\n\u001b[32m    207\u001b[39m     \u001b[38;5;66;03m# targeted apgd\u001b[39;00m\n\u001b[32m    208\u001b[39m     \u001b[38;5;28mself\u001b[39m.apgd_targeted.seed = \u001b[38;5;28mself\u001b[39m.get_seed()\n\u001b[32m--> \u001b[39m\u001b[32m209\u001b[39m     adv_curr = \u001b[38;5;28mself\u001b[39m.apgd_targeted.perturb(x, y) \u001b[38;5;66;03m#cheap=True\u001b[39;00m\n\u001b[32m    211\u001b[39m \u001b[38;5;28;01melif\u001b[39;00m attack == \u001b[33m'\u001b[39m\u001b[33mfab-t\u001b[39m\u001b[33m'\u001b[39m:\n\u001b[32m    212\u001b[39m     \u001b[38;5;66;03m# fab targeted\u001b[39;00m\n\u001b[32m    213\u001b[39m     \u001b[38;5;28mself\u001b[39m.fab.targeted = \u001b[38;5;28;01mTrue\u001b[39;00m\n",
      "\u001b[36mFile \u001b[39m\u001b[32m~/anaconda3/envs/robustbench-env/lib/python3.11/site-packages/autoattack/autopgd_base.py:671\u001b[39m, in \u001b[36mAPGDAttack_targeted.perturb\u001b[39m\u001b[34m(self, x, y, x_init)\u001b[39m\n\u001b[32m    668\u001b[39m \u001b[38;5;28mself\u001b[39m.y_target = output.sort(dim=\u001b[32m1\u001b[39m)[\u001b[32m1\u001b[39m][:, -target_class]\n\u001b[32m    670\u001b[39m \u001b[38;5;28;01mif\u001b[39;00m \u001b[38;5;129;01mnot\u001b[39;00m \u001b[38;5;28mself\u001b[39m.use_largereps:\n\u001b[32m--> \u001b[39m\u001b[32m671\u001b[39m     res_curr = \u001b[38;5;28mself\u001b[39m.attack_single_run(x_to_fool, y_to_fool)\n\u001b[32m    672\u001b[39m \u001b[38;5;28;01melse\u001b[39;00m:\n\u001b[32m    673\u001b[39m     res_curr = \u001b[38;5;28mself\u001b[39m.decr_eps_pgd(x_to_fool, y_to_fool, epss, iters)\n",
      "\u001b[36mFile \u001b[39m\u001b[32m~/anaconda3/envs/robustbench-env/lib/python3.11/site-packages/autoattack/autopgd_base.py:369\u001b[39m, in \u001b[36mAPGDAttack.attack_single_run\u001b[39m\u001b[34m(self, x, y, x_init)\u001b[39m\n\u001b[32m    367\u001b[39m         logits = \u001b[38;5;28mself\u001b[39m.model(x_adv)\n\u001b[32m    368\u001b[39m         loss_indiv = criterion_indiv(logits, y)\n\u001b[32m--> \u001b[39m\u001b[32m369\u001b[39m         loss = loss_indiv.sum()\n\u001b[32m    371\u001b[39m     grad += torch.autograd.grad(loss, [x_adv])[\u001b[32m0\u001b[39m].detach()\n\u001b[32m    372\u001b[39m \u001b[38;5;28;01melse\u001b[39;00m:\n",
      "\u001b[31mKeyboardInterrupt\u001b[39m: "
     ]
    }
   ],
   "source": [
    "from autoattack import AutoAttack\n",
    "\n",
    "# adversary = AutoAttack(wiggle_model, norm='Linf', eps=8/255, version='custom', attacks_to_run=['apgd-ce', 'apgd-dlr'], device='mps')\n",
    "adversary = AutoAttack(wiggle_model, norm='Linf', eps=8/255, device=\"mps\")\n",
    "\n",
    "adversary.apgd.n_restarts = 1\n",
    "for images, labels in testloader:\n",
    "    print(len(images))\n",
    "    x_adv = adversary.run_standard_evaluation(images, labels)\n",
    "    # print(x_adv)\n",
    "    # break"
   ]
  },
  {
   "cell_type": "code",
   "execution_count": 119,
   "id": "90058bca-8b9b-4672-9109-7fa51c7c880e",
   "metadata": {},
   "outputs": [
    {
     "name": "stdout",
     "output_type": "stream",
     "text": [
      "128\n",
      "using custom version including apgd-ce, apgd-dlr.\n",
      "initial accuracy: 79.69%\n",
      "apgd-ce - 1/1 - 30 out of 102 successfully perturbed\n",
      "robust accuracy after APGD-CE: 56.25% (total time 12.5 s)\n",
      "apgd-dlr - 1/1 - 2 out of 72 successfully perturbed\n",
      "robust accuracy after APGD-DLR: 54.69% (total time 22.6 s)\n",
      "max Linf perturbation: 0.03137, nan in tensor: 0, max: 1.00000, min: 0.00000\n",
      "robust accuracy: 54.69%\n",
      "128\n",
      "using custom version including apgd-ce, apgd-dlr.\n",
      "initial accuracy: 77.34%\n",
      "apgd-ce - 1/1 - 24 out of 99 successfully perturbed\n",
      "robust accuracy after APGD-CE: 58.59% (total time 12.3 s)\n",
      "apgd-dlr - 1/1 - 4 out of 75 successfully perturbed\n",
      "robust accuracy after APGD-DLR: 55.47% (total time 23.0 s)\n",
      "max Linf perturbation: 0.03137, nan in tensor: 0, max: 1.00000, min: 0.00000\n",
      "robust accuracy: 55.47%\n",
      "128\n",
      "using custom version including apgd-ce, apgd-dlr.\n",
      "initial accuracy: 77.34%\n",
      "apgd-ce - 1/1 - 28 out of 99 successfully perturbed\n",
      "robust accuracy after APGD-CE: 55.47% (total time 11.3 s)\n",
      "apgd-dlr - 1/1 - 3 out of 71 successfully perturbed\n",
      "robust accuracy after APGD-DLR: 53.12% (total time 21.5 s)\n",
      "max Linf perturbation: 0.03137, nan in tensor: 0, max: 1.00000, min: 0.00000\n",
      "robust accuracy: 53.12%\n",
      "128\n",
      "using custom version including apgd-ce, apgd-dlr.\n",
      "initial accuracy: 82.81%\n",
      "apgd-ce - 1/1 - 42 out of 106 successfully perturbed\n",
      "robust accuracy after APGD-CE: 50.00% (total time 12.8 s)\n",
      "apgd-dlr - 1/1 - 2 out of 64 successfully perturbed\n",
      "robust accuracy after APGD-DLR: 48.44% (total time 21.4 s)\n",
      "max Linf perturbation: 0.03137, nan in tensor: 0, max: 1.00000, min: 0.00000\n",
      "robust accuracy: 48.44%\n",
      "128\n",
      "using custom version including apgd-ce, apgd-dlr.\n",
      "initial accuracy: 85.16%\n",
      "apgd-ce - 1/1 - 31 out of 109 successfully perturbed\n",
      "robust accuracy after APGD-CE: 60.94% (total time 13.0 s)\n",
      "apgd-dlr - 1/1 - 5 out of 78 successfully perturbed\n",
      "robust accuracy after APGD-DLR: 57.03% (total time 24.2 s)\n",
      "max Linf perturbation: 0.03137, nan in tensor: 0, max: 1.00000, min: 0.00000\n",
      "robust accuracy: 57.03%\n",
      "128\n",
      "using custom version including apgd-ce, apgd-dlr.\n",
      "initial accuracy: 75.00%\n"
     ]
    },
    {
     "name": "stderr",
     "output_type": "stream",
     "text": [
      "Exception ignored in: <function _MultiProcessingDataLoaderIter.__del__ at 0x10cd50720>\n",
      "Traceback (most recent call last):\n",
      "  File \"/Users/zephaniahroe/anaconda3/envs/robustbench-env/lib/python3.11/site-packages/torch/utils/data/dataloader.py\", line 1663, in __del__\n",
      "    self._shutdown_workers()\n",
      "  File \"/Users/zephaniahroe/anaconda3/envs/robustbench-env/lib/python3.11/site-packages/torch/utils/data/dataloader.py\", line 1627, in _shutdown_workers\n",
      "    w.join(timeout=_utils.MP_STATUS_CHECK_INTERVAL)\n",
      "  File \"/Users/zephaniahroe/anaconda3/envs/robustbench-env/lib/python3.11/multiprocessing/process.py\", line 149, in join\n",
      "    res = self._popen.wait(timeout)\n",
      "          ^^^^^^^^^^^^^^^^^^^^^^^^^\n",
      "  File \"/Users/zephaniahroe/anaconda3/envs/robustbench-env/lib/python3.11/multiprocessing/popen_fork.py\", line 40, in wait\n",
      "    if not wait([self.sentinel], timeout):\n",
      "           ^^^^^^^^^^^^^^^^^^^^^^^^^^^^^^\n",
      "  File \"/Users/zephaniahroe/anaconda3/envs/robustbench-env/lib/python3.11/multiprocessing/connection.py\", line 948, in wait\n",
      "    ready = selector.select(timeout)\n",
      "            ^^^^^^^^^^^^^^^^^^^^^^^^\n",
      "  File \"/Users/zephaniahroe/anaconda3/envs/robustbench-env/lib/python3.11/selectors.py\", line 415, in select\n",
      "    fd_event_list = self._selector.poll(timeout)\n",
      "                    ^^^^^^^^^^^^^^^^^^^^^^^^^^^^\n",
      "KeyboardInterrupt: \n"
     ]
    },
    {
     "ename": "KeyboardInterrupt",
     "evalue": "",
     "output_type": "error",
     "traceback": [
      "\u001b[31m---------------------------------------------------------------------------\u001b[39m",
      "\u001b[31mKeyboardInterrupt\u001b[39m                         Traceback (most recent call last)",
      "\u001b[36mCell\u001b[39m\u001b[36m \u001b[39m\u001b[32mIn[119]\u001b[39m\u001b[32m, line 7\u001b[39m\n\u001b[32m      5\u001b[39m \u001b[38;5;28;01mfor\u001b[39;00m images, labels \u001b[38;5;129;01min\u001b[39;00m testloader:\n\u001b[32m      6\u001b[39m     \u001b[38;5;28mprint\u001b[39m(\u001b[38;5;28mlen\u001b[39m(images))\n\u001b[32m----> \u001b[39m\u001b[32m7\u001b[39m     x_adv = adversary.run_standard_evaluation(images, labels)\n",
      "\u001b[36mFile \u001b[39m\u001b[32m~/anaconda3/envs/robustbench-env/lib/python3.11/site-packages/autoattack/autoattack.py:187\u001b[39m, in \u001b[36mAutoAttack.run_standard_evaluation\u001b[39m\u001b[34m(self, x_orig, y_orig, bs, return_labels, state_path)\u001b[39m\n\u001b[32m    185\u001b[39m     \u001b[38;5;28mself\u001b[39m.apgd.loss = \u001b[33m'\u001b[39m\u001b[33mce\u001b[39m\u001b[33m'\u001b[39m\n\u001b[32m    186\u001b[39m     \u001b[38;5;28mself\u001b[39m.apgd.seed = \u001b[38;5;28mself\u001b[39m.get_seed()\n\u001b[32m--> \u001b[39m\u001b[32m187\u001b[39m     adv_curr = \u001b[38;5;28mself\u001b[39m.apgd.perturb(x, y) \u001b[38;5;66;03m#cheap=True\u001b[39;00m\n\u001b[32m    189\u001b[39m \u001b[38;5;28;01melif\u001b[39;00m attack == \u001b[33m'\u001b[39m\u001b[33mapgd-dlr\u001b[39m\u001b[33m'\u001b[39m:\n\u001b[32m    190\u001b[39m     \u001b[38;5;66;03m# apgd on dlr loss\u001b[39;00m\n\u001b[32m    191\u001b[39m     \u001b[38;5;28mself\u001b[39m.apgd.loss = \u001b[33m'\u001b[39m\u001b[33mdlr\u001b[39m\u001b[33m'\u001b[39m\n",
      "\u001b[36mFile \u001b[39m\u001b[32m~/anaconda3/envs/robustbench-env/lib/python3.11/site-packages/autoattack/autopgd_base.py:510\u001b[39m, in \u001b[36mAPGDAttack.perturb\u001b[39m\u001b[34m(self, x, y, best_loss, x_init)\u001b[39m\n\u001b[32m    506\u001b[39m y_to_fool = y[ind_to_fool].clone()\n\u001b[32m    509\u001b[39m \u001b[38;5;28;01mif\u001b[39;00m \u001b[38;5;129;01mnot\u001b[39;00m \u001b[38;5;28mself\u001b[39m.use_largereps:\n\u001b[32m--> \u001b[39m\u001b[32m510\u001b[39m     res_curr = \u001b[38;5;28mself\u001b[39m.attack_single_run(x_to_fool, y_to_fool)\n\u001b[32m    511\u001b[39m \u001b[38;5;28;01melse\u001b[39;00m:\n\u001b[32m    512\u001b[39m     res_curr = \u001b[38;5;28mself\u001b[39m.decr_eps_pgd(x_to_fool, y_to_fool, epss, iters)\n",
      "\u001b[36mFile \u001b[39m\u001b[32m~/anaconda3/envs/robustbench-env/lib/python3.11/site-packages/autoattack/autopgd_base.py:384\u001b[39m, in \u001b[36mAPGDAttack.attack_single_run\u001b[39m\u001b[34m(self, x, y, x_init)\u001b[39m\n\u001b[32m    382\u001b[39m acc = torch.min(acc, pred)\n\u001b[32m    383\u001b[39m acc_steps[i + \u001b[32m1\u001b[39m] = acc + \u001b[32m0\u001b[39m\n\u001b[32m--> \u001b[39m\u001b[32m384\u001b[39m ind_pred = (pred == \u001b[32m0\u001b[39m).nonzero().squeeze()\n\u001b[32m    385\u001b[39m x_best_adv[ind_pred] = x_adv[ind_pred] + \u001b[32m0.\u001b[39m\n\u001b[32m    386\u001b[39m \u001b[38;5;28;01mif\u001b[39;00m \u001b[38;5;28mself\u001b[39m.verbose:\n",
      "\u001b[31mKeyboardInterrupt\u001b[39m: "
     ]
    }
   ],
   "source": [
    "from autoattack import AutoAttack\n",
    "\n",
    "adversary = AutoAttack(wiggle_model, norm='Linf', eps=8/255, version='custom', attacks_to_run=['apgd-ce', 'apgd-dlr'], device='mps')\n",
    "adversary.apgd.n_restarts = 1\n",
    "for images, labels in testloader:\n",
    "    print(len(images))\n",
    "    x_adv = adversary.run_standard_evaluation(images, labels)\n",
    "    # print(x_adv)"
   ]
  },
  {
   "cell_type": "code",
   "execution_count": 212,
   "id": "804d2cef-535e-4e6e-b4fc-50e8da3700f2",
   "metadata": {},
   "outputs": [
    {
     "name": "stdout",
     "output_type": "stream",
     "text": [
      "128\n",
      "using custom version including apgd-ce, apgd-dlr.\n",
      "initial accuracy: 86.72%\n",
      "apgd-ce - 1/1 - 45 out of 111 successfully perturbed\n",
      "robust accuracy after APGD-CE: 51.56% (total time 19.9 s)\n",
      "apgd-dlr - 1/1 - 6 out of 66 successfully perturbed\n",
      "robust accuracy after APGD-DLR: 46.88% (total time 35.3 s)\n",
      "max Linf perturbation: 0.03137, nan in tensor: 0, max: 1.00000, min: 0.00000\n",
      "robust accuracy: 46.88%\n",
      "128\n",
      "using custom version including apgd-ce, apgd-dlr.\n",
      "initial accuracy: 81.25%\n",
      "apgd-ce - 1/1 - 53 out of 104 successfully perturbed\n",
      "robust accuracy after APGD-CE: 39.84% (total time 16.3 s)\n",
      "apgd-dlr - 1/1 - 3 out of 51 successfully perturbed\n",
      "robust accuracy after APGD-DLR: 37.50% (total time 28.9 s)\n",
      "max Linf perturbation: 0.03137, nan in tensor: 0, max: 1.00000, min: 0.00000\n",
      "robust accuracy: 37.50%\n",
      "128\n",
      "using custom version including apgd-ce, apgd-dlr.\n",
      "initial accuracy: 84.38%\n",
      "apgd-ce - 1/1 - 57 out of 108 successfully perturbed\n",
      "robust accuracy after APGD-CE: 39.84% (total time 16.8 s)\n",
      "apgd-dlr - 1/1 - 2 out of 51 successfully perturbed\n",
      "robust accuracy after APGD-DLR: 38.28% (total time 26.1 s)\n",
      "max Linf perturbation: 0.03137, nan in tensor: 0, max: 1.00000, min: 0.00000\n",
      "robust accuracy: 38.28%\n",
      "128\n",
      "using custom version including apgd-ce, apgd-dlr.\n",
      "initial accuracy: 79.69%\n",
      "apgd-ce - 1/1 - 54 out of 102 successfully perturbed\n",
      "robust accuracy after APGD-CE: 37.50% (total time 16.1 s)\n"
     ]
    },
    {
     "ename": "KeyboardInterrupt",
     "evalue": "",
     "output_type": "error",
     "traceback": [
      "\u001b[31m---------------------------------------------------------------------------\u001b[39m",
      "\u001b[31mKeyboardInterrupt\u001b[39m                         Traceback (most recent call last)",
      "\u001b[36mCell\u001b[39m\u001b[36m \u001b[39m\u001b[32mIn[212]\u001b[39m\u001b[32m, line 7\u001b[39m\n\u001b[32m      5\u001b[39m \u001b[38;5;28;01mfor\u001b[39;00m images, labels \u001b[38;5;129;01min\u001b[39;00m testloader:\n\u001b[32m      6\u001b[39m     \u001b[38;5;28mprint\u001b[39m(\u001b[38;5;28mlen\u001b[39m(images))\n\u001b[32m----> \u001b[39m\u001b[32m7\u001b[39m     x_adv = adversary.run_standard_evaluation(images, labels)\n",
      "\u001b[36mFile \u001b[39m\u001b[32m~/anaconda3/envs/robustbench-env/lib/python3.11/site-packages/autoattack/autoattack.py:193\u001b[39m, in \u001b[36mAutoAttack.run_standard_evaluation\u001b[39m\u001b[34m(self, x_orig, y_orig, bs, return_labels, state_path)\u001b[39m\n\u001b[32m    191\u001b[39m     \u001b[38;5;28mself\u001b[39m.apgd.loss = \u001b[33m'\u001b[39m\u001b[33mdlr\u001b[39m\u001b[33m'\u001b[39m\n\u001b[32m    192\u001b[39m     \u001b[38;5;28mself\u001b[39m.apgd.seed = \u001b[38;5;28mself\u001b[39m.get_seed()\n\u001b[32m--> \u001b[39m\u001b[32m193\u001b[39m     adv_curr = \u001b[38;5;28mself\u001b[39m.apgd.perturb(x, y) \u001b[38;5;66;03m#cheap=True\u001b[39;00m\n\u001b[32m    195\u001b[39m \u001b[38;5;28;01melif\u001b[39;00m attack == \u001b[33m'\u001b[39m\u001b[33mfab\u001b[39m\u001b[33m'\u001b[39m:\n\u001b[32m    196\u001b[39m     \u001b[38;5;66;03m# fab\u001b[39;00m\n\u001b[32m    197\u001b[39m     \u001b[38;5;28mself\u001b[39m.fab.targeted = \u001b[38;5;28;01mFalse\u001b[39;00m\n",
      "\u001b[36mFile \u001b[39m\u001b[32m~/anaconda3/envs/robustbench-env/lib/python3.11/site-packages/autoattack/autopgd_base.py:510\u001b[39m, in \u001b[36mAPGDAttack.perturb\u001b[39m\u001b[34m(self, x, y, best_loss, x_init)\u001b[39m\n\u001b[32m    506\u001b[39m y_to_fool = y[ind_to_fool].clone()\n\u001b[32m    509\u001b[39m \u001b[38;5;28;01mif\u001b[39;00m \u001b[38;5;129;01mnot\u001b[39;00m \u001b[38;5;28mself\u001b[39m.use_largereps:\n\u001b[32m--> \u001b[39m\u001b[32m510\u001b[39m     res_curr = \u001b[38;5;28mself\u001b[39m.attack_single_run(x_to_fool, y_to_fool)\n\u001b[32m    511\u001b[39m \u001b[38;5;28;01melse\u001b[39;00m:\n\u001b[32m    512\u001b[39m     res_curr = \u001b[38;5;28mself\u001b[39m.decr_eps_pgd(x_to_fool, y_to_fool, epss, iters)\n",
      "\u001b[36mFile \u001b[39m\u001b[32m~/anaconda3/envs/robustbench-env/lib/python3.11/site-packages/autoattack/autopgd_base.py:384\u001b[39m, in \u001b[36mAPGDAttack.attack_single_run\u001b[39m\u001b[34m(self, x, y, x_init)\u001b[39m\n\u001b[32m    382\u001b[39m acc = torch.min(acc, pred)\n\u001b[32m    383\u001b[39m acc_steps[i + \u001b[32m1\u001b[39m] = acc + \u001b[32m0\u001b[39m\n\u001b[32m--> \u001b[39m\u001b[32m384\u001b[39m ind_pred = (pred == \u001b[32m0\u001b[39m).nonzero().squeeze()\n\u001b[32m    385\u001b[39m x_best_adv[ind_pred] = x_adv[ind_pred] + \u001b[32m0.\u001b[39m\n\u001b[32m    386\u001b[39m \u001b[38;5;28;01mif\u001b[39;00m \u001b[38;5;28mself\u001b[39m.verbose:\n",
      "\u001b[31mKeyboardInterrupt\u001b[39m: "
     ]
    }
   ],
   "source": [
    "from autoattack import AutoAttack\n",
    "\n",
    "adversary = AutoAttack(wiggle_model, norm='Linf', eps=8/255, version='custom', attacks_to_run=['apgd-ce', 'apgd-dlr'], device='mps')\n",
    "adversary.apgd.n_restarts = 1\n",
    "for images, labels in testloader:\n",
    "    print(len(images))\n",
    "    x_adv = adversary.run_standard_evaluation(images, labels)\n",
    "    # print(x_adv)"
   ]
  },
  {
   "cell_type": "code",
   "execution_count": 206,
   "id": "1a8d5fa1-31fe-4337-a280-43328ada8556",
   "metadata": {},
   "outputs": [
    {
     "name": "stdout",
     "output_type": "stream",
     "text": [
      "128\n",
      "using custom version including apgd-ce, apgd-dlr.\n",
      "initial accuracy: 90.62%\n",
      "apgd-ce - 1/1 - 116 out of 116 successfully perturbed\n",
      "robust accuracy after APGD-CE: 0.00% (total time 13.0 s)\n",
      "max Linf perturbation: 0.03137, nan in tensor: 0, max: 1.00000, min: 0.00000\n",
      "robust accuracy: 0.00%\n",
      "128\n",
      "using custom version including apgd-ce, apgd-dlr.\n",
      "initial accuracy: 83.59%\n"
     ]
    },
    {
     "name": "stderr",
     "output_type": "stream",
     "text": [
      "Exception ignored in: <function _MultiProcessingDataLoaderIter.__del__ at 0x11de50720>\n",
      "Traceback (most recent call last):\n",
      "  File \"/Users/zephaniahroe/anaconda3/envs/robustbench-env/lib/python3.11/site-packages/torch/utils/data/dataloader.py\", line 1663, in __del__\n",
      "    self._shutdown_workers()\n",
      "  File \"/Users/zephaniahroe/anaconda3/envs/robustbench-env/lib/python3.11/site-packages/torch/utils/data/dataloader.py\", line 1627, in _shutdown_workers\n",
      "    w.join(timeout=_utils.MP_STATUS_CHECK_INTERVAL)\n",
      "  File \"/Users/zephaniahroe/anaconda3/envs/robustbench-env/lib/python3.11/multiprocessing/process.py\", line 149, in join\n",
      "    res = self._popen.wait(timeout)\n",
      "          ^^^^^^^^^^^^^^^^^^^^^^^^^\n",
      "  File \"/Users/zephaniahroe/anaconda3/envs/robustbench-env/lib/python3.11/multiprocessing/popen_fork.py\", line 40, in wait\n",
      "    if not wait([self.sentinel], timeout):\n",
      "           ^^^^^^^^^^^^^^^^^^^^^^^^^^^^^^\n",
      "  File \"/Users/zephaniahroe/anaconda3/envs/robustbench-env/lib/python3.11/multiprocessing/connection.py\", line 948, in wait\n",
      "    ready = selector.select(timeout)\n",
      "            ^^^^^^^^^^^^^^^^^^^^^^^^\n",
      "  File \"/Users/zephaniahroe/anaconda3/envs/robustbench-env/lib/python3.11/selectors.py\", line 415, in select\n",
      "    fd_event_list = self._selector.poll(timeout)\n",
      "                    ^^^^^^^^^^^^^^^^^^^^^^^^^^^^\n",
      "KeyboardInterrupt: \n"
     ]
    },
    {
     "ename": "KeyboardInterrupt",
     "evalue": "",
     "output_type": "error",
     "traceback": [
      "\u001b[31m---------------------------------------------------------------------------\u001b[39m",
      "\u001b[31mKeyboardInterrupt\u001b[39m                         Traceback (most recent call last)",
      "\u001b[36mCell\u001b[39m\u001b[36m \u001b[39m\u001b[32mIn[206]\u001b[39m\u001b[32m, line 5\u001b[39m\n\u001b[32m      3\u001b[39m \u001b[38;5;28;01mfor\u001b[39;00m images, labels \u001b[38;5;129;01min\u001b[39;00m testloader:\n\u001b[32m      4\u001b[39m     \u001b[38;5;28mprint\u001b[39m(\u001b[38;5;28mlen\u001b[39m(images))\n\u001b[32m----> \u001b[39m\u001b[32m5\u001b[39m     x_adv = adversary.run_standard_evaluation(images, labels)\n",
      "\u001b[36mFile \u001b[39m\u001b[32m~/anaconda3/envs/robustbench-env/lib/python3.11/site-packages/autoattack/autoattack.py:187\u001b[39m, in \u001b[36mAutoAttack.run_standard_evaluation\u001b[39m\u001b[34m(self, x_orig, y_orig, bs, return_labels, state_path)\u001b[39m\n\u001b[32m    185\u001b[39m     \u001b[38;5;28mself\u001b[39m.apgd.loss = \u001b[33m'\u001b[39m\u001b[33mce\u001b[39m\u001b[33m'\u001b[39m\n\u001b[32m    186\u001b[39m     \u001b[38;5;28mself\u001b[39m.apgd.seed = \u001b[38;5;28mself\u001b[39m.get_seed()\n\u001b[32m--> \u001b[39m\u001b[32m187\u001b[39m     adv_curr = \u001b[38;5;28mself\u001b[39m.apgd.perturb(x, y) \u001b[38;5;66;03m#cheap=True\u001b[39;00m\n\u001b[32m    189\u001b[39m \u001b[38;5;28;01melif\u001b[39;00m attack == \u001b[33m'\u001b[39m\u001b[33mapgd-dlr\u001b[39m\u001b[33m'\u001b[39m:\n\u001b[32m    190\u001b[39m     \u001b[38;5;66;03m# apgd on dlr loss\u001b[39;00m\n\u001b[32m    191\u001b[39m     \u001b[38;5;28mself\u001b[39m.apgd.loss = \u001b[33m'\u001b[39m\u001b[33mdlr\u001b[39m\u001b[33m'\u001b[39m\n",
      "\u001b[36mFile \u001b[39m\u001b[32m~/anaconda3/envs/robustbench-env/lib/python3.11/site-packages/autoattack/autopgd_base.py:510\u001b[39m, in \u001b[36mAPGDAttack.perturb\u001b[39m\u001b[34m(self, x, y, best_loss, x_init)\u001b[39m\n\u001b[32m    506\u001b[39m y_to_fool = y[ind_to_fool].clone()\n\u001b[32m    509\u001b[39m \u001b[38;5;28;01mif\u001b[39;00m \u001b[38;5;129;01mnot\u001b[39;00m \u001b[38;5;28mself\u001b[39m.use_largereps:\n\u001b[32m--> \u001b[39m\u001b[32m510\u001b[39m     res_curr = \u001b[38;5;28mself\u001b[39m.attack_single_run(x_to_fool, y_to_fool)\n\u001b[32m    511\u001b[39m \u001b[38;5;28;01melse\u001b[39;00m:\n\u001b[32m    512\u001b[39m     res_curr = \u001b[38;5;28mself\u001b[39m.decr_eps_pgd(x_to_fool, y_to_fool, epss, iters)\n",
      "\u001b[36mFile \u001b[39m\u001b[32m~/anaconda3/envs/robustbench-env/lib/python3.11/site-packages/autoattack/autopgd_base.py:384\u001b[39m, in \u001b[36mAPGDAttack.attack_single_run\u001b[39m\u001b[34m(self, x, y, x_init)\u001b[39m\n\u001b[32m    382\u001b[39m acc = torch.min(acc, pred)\n\u001b[32m    383\u001b[39m acc_steps[i + \u001b[32m1\u001b[39m] = acc + \u001b[32m0\u001b[39m\n\u001b[32m--> \u001b[39m\u001b[32m384\u001b[39m ind_pred = (pred == \u001b[32m0\u001b[39m).nonzero().squeeze()\n\u001b[32m    385\u001b[39m x_best_adv[ind_pred] = x_adv[ind_pred] + \u001b[32m0.\u001b[39m\n\u001b[32m    386\u001b[39m \u001b[38;5;28;01mif\u001b[39;00m \u001b[38;5;28mself\u001b[39m.verbose:\n",
      "\u001b[31mKeyboardInterrupt\u001b[39m: "
     ]
    }
   ],
   "source": [
    "adversary = AutoAttack(model, norm='Linf', eps=8/255, version='custom', attacks_to_run=['apgd-ce', 'apgd-dlr'], device='mps')\n",
    "adversary.apgd.n_restarts = 1\n",
    "for images, labels in testloader:\n",
    "    print(len(images))\n",
    "    x_adv = adversary.run_standard_evaluation(images, labels)\n",
    "    # print(x_adv)"
   ]
  },
  {
   "cell_type": "code",
   "execution_count": null,
   "id": "d0651aef-5bc7-40cc-9654-3d1e4e5cbcaf",
   "metadata": {},
   "outputs": [],
   "source": []
  },
  {
   "cell_type": "code",
   "execution_count": null,
   "id": "3c66f73c-9f8d-4987-a191-4e94464250fb",
   "metadata": {},
   "outputs": [],
   "source": []
  },
  {
   "cell_type": "code",
   "execution_count": 24,
   "id": "cd0eab45-c9ac-4483-8f9b-17149e2fb9a1",
   "metadata": {},
   "outputs": [],
   "source": [
    "def show_adv_examples(adv_images):\n",
    "    # Show first 4 examples (or less if batch is smaller)\n",
    "    num_to_show = min(4, adv_images.shape[0])\n",
    "    \n",
    "    fig, axes = plt.subplots(1, num_to_show, figsize=(12, 3))\n",
    "    if num_to_show == 1:\n",
    "        axes = [axes]\n",
    "    \n",
    "    for i in range(num_to_show):\n",
    "        # Convert from (C, H, W) to (H, W, C) and move to CPU\n",
    "        img = adv_images[i].permute(1, 2, 0).cpu().detach()\n",
    "        \n",
    "        # Clip values to [0, 1] range for display\n",
    "        img = torch.clamp(img, 0, 1)\n",
    "        \n",
    "        axes[i].imshow(img)\n",
    "        axes[i].set_title(f'Adv Example {i+1}')\n",
    "        axes[i].axis('off')\n",
    "    \n",
    "    plt.tight_layout()\n",
    "    plt.show()"
   ]
  },
  {
   "cell_type": "code",
   "execution_count": 20,
   "id": "6225e833-69ea-4e3a-a309-cfc5fc83c540",
   "metadata": {},
   "outputs": [
    {
     "data": {
      "image/png": "[encoded data removed]",
      "text/plain": [
       "<Figure size 1200x300 with 4 Axes>"
      ]
     },
     "metadata": {},
     "output_type": "display_data"
    },
    {
     "name": "stdout",
     "output_type": "stream",
     "text": [
      "tensor([0, 0, 0, 0, 0], device='mps:0')\n",
      "Attack success rate: 100.00%\n",
      "5\n"
     ]
    },
    {
     "data": {
      "image/png": "[encoded data removed]",
      "text/plain": [
       "<Figure size 1200x300 with 4 Axes>"
      ]
     },
     "metadata": {},
     "output_type": "display_data"
    }
   ],
   "source": [
    "# Simple setup - no complex preprocessing nonsense\n",
    "model = model.to('mps')\n",
    "model.eval()\n",
    "device = 'mps'\n",
    "\n",
    "# Create attacks\n",
    "fgsm = torchattacks.FGSM(model, eps=50/255)\n",
    "fgsm.set_mode_targeted_by_label(quiet=True)\n",
    "pgd = torchattacks.PGD(model, eps=8/255, alpha=2/255, steps=40)\n",
    "pgd.set_mode_targeted_by_label(quiet=True)\n",
    "cw = torchattacks.CW(model, c=1, kappa=0, steps=50)\n",
    "cw.set_mode_targeted_by_label(quiet=True)\n",
    "autoattack = torchattacks.AutoAttack(model, eps=8/255)\n",
    "\n",
    "\n",
    "adv_images = []\n",
    "imgs = []\n",
    "\n",
    "# Use your normal data loader (with whatever preprocessing your model expects)\n",
    "for images, labels in testloader:\n",
    "    # print(images.shape); break\n",
    "    images, labels = images.to(device)[70:75], labels.to(device)[70:75]\n",
    "    show_adv_examples(images)\n",
    "    \n",
    "    # Generate adversarial examples\n",
    "    target_labels = torch.zeros_like(labels)\n",
    "    adv_images = pgd(images, target_labels)\n",
    "    imgs = images.clone()\n",
    "    \n",
    "    # Evaluate\n",
    "    with torch.no_grad():\n",
    "        outputs = model(adv_images.to(device))\n",
    "        # print(outputs.device)\n",
    "        _, predicted = torch.max(outputs, 1)\n",
    "        print(predicted)\n",
    "        # print(predicted.device)\n",
    "        \n",
    "    success_rate = (predicted == target_labels).float().mean()\n",
    "    print(f'Attack success rate: {success_rate:.2%}')\n",
    "    print(len(labels))\n",
    "    break\n",
    "\n",
    "show_adv_examples(adv_images)"
   ]
  },
  {
   "cell_type": "code",
   "execution_count": null,
   "id": "5c738045-beaf-448f-9885-548535cf6f7b",
   "metadata": {},
   "outputs": [],
   "source": []
  },
  {
   "cell_type": "code",
   "execution_count": null,
   "id": "edfb3e13-fe9f-4018-be69-13cfcb792d2b",
   "metadata": {},
   "outputs": [],
   "source": []
  },
  {
   "cell_type": "code",
   "execution_count": null,
   "id": "d9bcc097-e1f3-4ce8-9268-ac6ca76b6bed",
   "metadata": {},
   "outputs": [],
   "source": []
  },
  {
   "cell_type": "code",
   "execution_count": null,
   "id": "3e951e12-25f3-42ba-aaa1-7de25ab2a4e8",
   "metadata": {},
   "outputs": [],
   "source": []
  },
  {
   "cell_type": "code",
   "execution_count": null,
   "id": "91a600d0-14b1-430c-aeb1-39e23b274d48",
   "metadata": {},
   "outputs": [],
   "source": []
  },
  {
   "cell_type": "code",
   "execution_count": null,
   "id": "8e3791af-df86-4145-a53a-634474a3ab34",
   "metadata": {},
   "outputs": [],
   "source": [
    "# Simple setup - no complex preprocessing nonsense\n",
    "model = model.to('mps')\n",
    "model.eval()\n",
    "device = 'mps'\n",
    "\n",
    "# Create attacks\n",
    "fgsm = torchattacks.FGSM(model, eps=50/255)\n",
    "fgsm.set_mode_targeted_by_label(quiet=True)\n",
    "pgd = torchattacks.PGD(model, eps=8/255, alpha=2/255, steps=100)\n",
    "pgd.set_mode_targeted_by_label(quiet=True)\n",
    "cw = torchattacks.CW(model, c=1.5, kappa=0, steps=200)\n",
    "cw.set_mode_targeted_by_label(quiet=True)\n",
    "autoattack = torchattacks.AutoAttack(model, eps=8/255)"
   ]
  }
 ],
 "metadata": {
  "kernelspec": {
   "display_name": "Python 3 (ipykernel)",
   "language": "python",
   "name": "python3"
  },
  "language_info": {
   "codemirror_mode": {
    "name": "ipython",
    "version": 3
   },
   "file_extension": ".py",
   "mimetype": "text/x-python",
   "name": "python",
   "nbconvert_exporter": "python",
   "pygments_lexer": "ipython3",
   "version": "3.11.11"
  }
 },
 "nbformat": 4,
 "nbformat_minor": 5
}
